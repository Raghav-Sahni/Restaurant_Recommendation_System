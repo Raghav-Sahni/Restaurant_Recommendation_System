{
 "cells": [
  {
   "cell_type": "markdown",
   "metadata": {
    "id": "Wqw1usvHp4JN"
   },
   "source": [
    "# Restaurant Recommendation System"
   ]
  },
  {
   "cell_type": "markdown",
   "metadata": {
    "id": "fn6vdp5kp4JT"
   },
   "source": [
    "### Importing Libraries"
   ]
  },
  {
   "cell_type": "code",
   "execution_count": null,
   "metadata": {
    "execution": {
     "iopub.execute_input": "2022-02-16T13:44:03.710001Z",
     "iopub.status.busy": "2022-02-16T13:44:03.709651Z",
     "iopub.status.idle": "2022-02-16T13:44:04.717188Z",
     "shell.execute_reply": "2022-02-16T13:44:04.716226Z",
     "shell.execute_reply.started": "2022-02-16T13:44:03.709912Z"
    },
    "id": "jpY-ABE8p4JU"
   },
   "outputs": [],
   "source": [
    "import numpy as np\n",
    "import pandas as pd\n",
    "import matplotlib.pyplot as plt\n",
    "import seaborn as sns\n",
    "\n",
    "import json\n",
    "from sqlite3 import dbapi2 as sq3\n",
    "from pathlib import Path\n",
    "from collections import OrderedDict\n",
    "\n",
    "from time import time\n",
    "from IPython.display import clear_output\n",
    "\n",
    "import warnings\n",
    "warnings.filterwarnings('ignore')"
   ]
  },
  {
   "cell_type": "markdown",
   "metadata": {
    "id": "7ic9XCWrp4JV"
   },
   "source": [
    "### Loading Data"
   ]
  },
  {
   "cell_type": "code",
   "execution_count": null,
   "metadata": {
    "execution": {
     "iopub.execute_input": "2022-02-16T13:44:40.343243Z",
     "iopub.status.busy": "2022-02-16T13:44:40.34292Z",
     "iopub.status.idle": "2022-02-16T13:44:40.35774Z",
     "shell.execute_reply": "2022-02-16T13:44:40.356297Z",
     "shell.execute_reply.started": "2022-02-16T13:44:40.343202Z"
    },
    "id": "yBZlMbLIp4JW"
   },
   "outputs": [],
   "source": [
    "REVIEW_PATH = '/content/drive/MyDrive/yelp_dataset/yelp_academic_dataset_review.json'      #Contains full review text data including the user_id that wrote the review and the business_id the review is written for.\n",
    "BUSINESS_PATH = '/content/drive/MyDrive/yelp_dataset/yelp_academic_dataset_business.json'  #Contains business data including location data, attributes, and categories.\n",
    "USER_PATH = '/content/drive/MyDrive/yelp_dataset/yelp_academic_dataset_user.json'          #User data including the user's friend mapping and all the metadata associated with the user.\n",
    "\n",
    "# Functions to load data from json format\n",
    "#ref: https://www.kaggle.com/hexianwang/yelp-data\n",
    "def load_rows(file_path, nrows=None, only_return_count=False, verbose=True):\n",
    "    \"\"\"\n",
    "    Returns dataframe from json file\n",
    "    \"\"\"\n",
    "    tic = time()\n",
    "    with open(file_path) as json_file:\n",
    "        count = 0\n",
    "        objs = []\n",
    "        line = json_file.readline()\n",
    "        while (nrows is None or count<nrows) and line:\n",
    "            count += 1\n",
    "            if not only_return_count:\n",
    "                obj = json.loads(line)\n",
    "                objs.append(obj)\n",
    "            line = json_file.readline()\n",
    "        toc = time()\n",
    "        if verbose:\n",
    "            print(file_path.split('/')[-1], 'loaded. Count =', count, ', Time =', round(toc-tic,2), 'secs.')\n",
    "        \n",
    "        if only_return_count:\n",
    "            return count\n",
    "        \n",
    "        return pd.DataFrame(objs)\n",
    "    \n",
    "    \n",
    "#data generator to load data in chunks\n",
    "def load_rows_gen(file_path, nrows=1e6, verbose=True):\n",
    "    \"\"\"\n",
    "    Returns data in chunks\n",
    "    \"\"\"\n",
    "    with open(file_path) as json_file:\n",
    "        line = json_file.readline()\n",
    "        total = 0\n",
    "        while line:\n",
    "            count = 0\n",
    "            objs = []\n",
    "            tic = time()\n",
    "            while count<nrows and line:\n",
    "                count+=1\n",
    "                obj = json.loads(line)\n",
    "                objs.append(obj)\n",
    "                line = json_file.readline()\n",
    "                total += count\n",
    "            toc = time()\n",
    "            print('Loaded chunk of size:', count, \", Time =\", round(toc-tic,2), 'secs.')\n",
    "            yield pd.DataFrame(objs)"
   ]
  },
  {
   "cell_type": "markdown",
   "metadata": {
    "id": "MIudJg27p4JW"
   },
   "source": [
    "### Looking at data"
   ]
  },
  {
   "cell_type": "code",
   "execution_count": null,
   "metadata": {
    "execution": {
     "iopub.execute_input": "2022-02-16T13:44:41.270878Z",
     "iopub.status.busy": "2022-02-16T13:44:41.270479Z",
     "iopub.status.idle": "2022-02-16T13:44:41.353194Z",
     "shell.execute_reply": "2022-02-16T13:44:41.35228Z",
     "shell.execute_reply.started": "2022-02-16T13:44:41.270822Z"
    },
    "id": "-raXtDp-p4JX"
   },
   "outputs": [],
   "source": [
    "user_df_head = load_rows(USER_PATH, 5)\n",
    "user_df_head"
   ]
  },
  {
   "cell_type": "code",
   "execution_count": null,
   "metadata": {
    "execution": {
     "iopub.execute_input": "2022-02-16T13:44:43.229282Z",
     "iopub.status.busy": "2022-02-16T13:44:43.228383Z",
     "iopub.status.idle": "2022-02-16T13:44:43.256562Z",
     "shell.execute_reply": "2022-02-16T13:44:43.255489Z",
     "shell.execute_reply.started": "2022-02-16T13:44:43.229221Z"
    },
    "id": "8hZZGPg6p4JX"
   },
   "outputs": [],
   "source": [
    "review_df_head = load_rows(REVIEW_PATH, 5)\n",
    "review_df_head"
   ]
  },
  {
   "cell_type": "code",
   "execution_count": null,
   "metadata": {
    "execution": {
     "iopub.execute_input": "2022-02-16T13:44:43.381609Z",
     "iopub.status.busy": "2022-02-16T13:44:43.381311Z",
     "iopub.status.idle": "2022-02-16T13:44:43.416142Z",
     "shell.execute_reply": "2022-02-16T13:44:43.415189Z",
     "shell.execute_reply.started": "2022-02-16T13:44:43.381576Z"
    },
    "id": "bMgZdQhqp4JX"
   },
   "outputs": [],
   "source": [
    "business_df_head = load_rows(BUSINESS_PATH, 5)\n",
    "business_df_head.head()"
   ]
  },
  {
   "cell_type": "markdown",
   "metadata": {
    "id": "Z42gy1-Ep4JY"
   },
   "source": [
    "### Creating SQLite database\n",
    "As data size is more than what the RAM can handle."
   ]
  },
  {
   "cell_type": "code",
   "execution_count": null,
   "metadata": {
    "execution": {
     "iopub.execute_input": "2022-02-16T13:44:43.658829Z",
     "iopub.status.busy": "2022-02-16T13:44:43.658315Z",
     "iopub.status.idle": "2022-02-16T13:44:43.66806Z",
     "shell.execute_reply": "2022-02-16T13:44:43.667112Z",
     "shell.execute_reply.started": "2022-02-16T13:44:43.658793Z"
    },
    "id": "ENbH5yXip4JY"
   },
   "outputs": [],
   "source": [
    "# Functions to work with db2api from sqlite3\n",
    "\n",
    "PATHSTART = \".\"\n",
    "def get_db(dbfile):\n",
    "    #get connection to db\n",
    "    sqlite_db = sq3.connect(Path(PATHSTART)/ dbfile)\n",
    "    return sqlite_db\n",
    "\n",
    "def init_db(dbfile, schema):\n",
    "    #create db a/c to schema\n",
    "    db = get_db(dbfile)\n",
    "    \n",
    "    #execute sql code\n",
    "    c = db.cursor()\n",
    "    c.executescript(schema)\n",
    "    \n",
    "    #make commit\n",
    "    db.commit()\n",
    "    return db\n",
    "\n",
    "def make_query(sel):\n",
    "    c = db.cursor().execute(sel)\n",
    "    return c.fetchall()\n",
    "\n",
    "from collections import OrderedDict\n",
    "def make_frame(list_of_tuples, legend):\n",
    "    framelist=[]\n",
    "    for i, cname in enumerate(legend):\n",
    "        framelist.append((cname,[e[i] for e in list_of_tuples]))\n",
    "    return pd.DataFrame.from_dict(OrderedDict(framelist)) "
   ]
  },
  {
   "cell_type": "code",
   "execution_count": null,
   "metadata": {
    "execution": {
     "iopub.execute_input": "2022-02-16T13:44:43.7963Z",
     "iopub.status.busy": "2022-02-16T13:44:43.795797Z",
     "iopub.status.idle": "2022-02-16T13:44:43.802893Z",
     "shell.execute_reply": "2022-02-16T13:44:43.80176Z",
     "shell.execute_reply.started": "2022-02-16T13:44:43.796265Z"
    },
    "id": "1VTimkwAp4JZ"
   },
   "outputs": [],
   "source": [
    "#Table Schema for tables in our SQLite database\n",
    "\n",
    "users_schema = \"\"\"\n",
    "DROP TABLE IF EXISTS \"users\";\n",
    "\n",
    "CREATE TABLE \"users\" (\n",
    "    \"user_id\" INTEGER PRIMARY KEY NOT NULL,\n",
    "    \"name\" VARCHAR,\n",
    "    \"review_count\" INTEGER,\n",
    "    \"yelping_since\" TIMESTAMP,\n",
    "    \"useful\" INTEGER,\n",
    "    \"funny\" INTEGER,\n",
    "    \"cool\" INTEGER,\n",
    "    \"elite\" VARCHAR,\n",
    "    \"friends\" VARCHAR,\n",
    "    \"fans\" INTEGER,\n",
    "    \"average_stars\" FLOAT,\n",
    "    \"compliment_hot\" INTEGER,\n",
    "    \"compliment_more\" INTEGER, \n",
    "    \"compliment_profile\" INTEGER,\n",
    "    \"compliment_cute\" INTEGER,\n",
    "    \"compliment_list\" INTEGER,\n",
    "    \"compliment_note\" INTEGER,\n",
    "    \"compliment_plain\" INTEGER,\n",
    "    \"compliment_cool\" INTEGER,\n",
    "    \"compliment_funny\" INTEGER,\n",
    "    \"compliment_writer\" INTEGER,\n",
    "    \"compliment_photos\" INTEGER\n",
    ");\n",
    "\"\"\"\n",
    "businesses_schema=\"\"\"\n",
    "DROP TABLE IF EXISTS \"businesses\";\n",
    "\n",
    "CREATE TABLE \"businesses\" (\n",
    "    \"business_id\" INTEGER PRIMARY KEY NOT NULL,\n",
    "    \"name\" VARCHAR,\n",
    "    \"address\" VARCHAR,\n",
    "    \"city\" VARCHAR,\n",
    "    \"state\" VARCHAR,\n",
    "    \"postal_code\" VARCHAR,\n",
    "    \"latitude\" FLOAT,\n",
    "    \"longitude\" FLOAT,\n",
    "    \"stars\" FLOAT,\n",
    "    \"review_count\" INTEGER,\n",
    "    \"is_open\" BOOLEAN,\n",
    "    \"categories\" VARCHAR,\n",
    "\"\"\"\n",
    "reviews_schema = \"\"\"\n",
    "DROP TABLE IF EXISTS \"reviews\";\n",
    "\n",
    "CREATE TABLE \"reviews\" (\n",
    "    \"review_id\" VARCHAR PRIMARY KEY,\n",
    "    \"user_id\" INTEGER,\n",
    "    \"business_id\" INTEGER,\n",
    "    \"stars\" FLOAT,\n",
    "    \"useful\" INTEGER,\n",
    "    \"funny\" INTEGER,\n",
    "    \"cool\" INTEGER,\n",
    "    \"text\"  VARCHAR,\n",
    "    \"date\" TIMESTAMP,\n",
    "    \n",
    "    \n",
    "    FOREIGN KEY (user_id) REFERENCES users(user_id),\n",
    "    FOREIGN KEY (business_id) REFERENCES businesses(business_id)\n",
    ");\n",
    "\"\"\"\n",
    "schema_close = \");\""
   ]
  },
  {
   "cell_type": "code",
   "execution_count": null,
   "metadata": {
    "colab": {
     "base_uri": "https://localhost:8080/",
     "height": 600
    },
    "execution": {
     "iopub.execute_input": "2022-02-16T13:44:43.9633Z",
     "iopub.status.busy": "2022-02-16T13:44:43.96283Z",
     "iopub.status.idle": "2022-02-16T13:44:49.559978Z",
     "shell.execute_reply": "2022-02-16T13:44:49.558959Z",
     "shell.execute_reply.started": "2022-02-16T13:44:43.963264Z"
    },
    "id": "sjBAU6HJp4JZ",
    "outputId": "de059856-c515-4704-a502-fae912f1ba23"
   },
   "outputs": [
    {
     "name": "stdout",
     "output_type": "stream",
     "text": [
      "yelp_academic_dataset_business.json loaded. Count = 160585 , Time = 4.69 secs.\n"
     ]
    },
    {
     "data": {
      "text/html": [
       "\n",
       "  <div id=\"df-c4c210af-048e-4b68-b34a-cd0da6ab17ee\">\n",
       "    <div class=\"colab-df-container\">\n",
       "      <div>\n",
       "<style scoped>\n",
       "    .dataframe tbody tr th:only-of-type {\n",
       "        vertical-align: middle;\n",
       "    }\n",
       "\n",
       "    .dataframe tbody tr th {\n",
       "        vertical-align: top;\n",
       "    }\n",
       "\n",
       "    .dataframe thead th {\n",
       "        text-align: right;\n",
       "    }\n",
       "</style>\n",
       "<table border=\"1\" class=\"dataframe\">\n",
       "  <thead>\n",
       "    <tr style=\"text-align: right;\">\n",
       "      <th></th>\n",
       "      <th>business_id</th>\n",
       "      <th>name</th>\n",
       "      <th>address</th>\n",
       "      <th>city</th>\n",
       "      <th>state</th>\n",
       "      <th>postal_code</th>\n",
       "      <th>latitude</th>\n",
       "      <th>longitude</th>\n",
       "      <th>stars</th>\n",
       "      <th>review_count</th>\n",
       "      <th>is_open</th>\n",
       "      <th>attributes</th>\n",
       "      <th>categories</th>\n",
       "      <th>hours</th>\n",
       "    </tr>\n",
       "  </thead>\n",
       "  <tbody>\n",
       "    <tr>\n",
       "      <th>0</th>\n",
       "      <td>6iYb2HFDywm3zjuRg0shjw</td>\n",
       "      <td>Oskar Blues Taproom</td>\n",
       "      <td>921 Pearl St</td>\n",
       "      <td>Boulder</td>\n",
       "      <td>CO</td>\n",
       "      <td>80302</td>\n",
       "      <td>40.017544</td>\n",
       "      <td>-105.283348</td>\n",
       "      <td>4.0</td>\n",
       "      <td>86</td>\n",
       "      <td>1</td>\n",
       "      <td>{'RestaurantsTableService': 'True', 'WiFi': 'u...</td>\n",
       "      <td>Gastropubs, Food, Beer Gardens, Restaurants, B...</td>\n",
       "      <td>{'Monday': '11:0-23:0', 'Tuesday': '11:0-23:0'...</td>\n",
       "    </tr>\n",
       "    <tr>\n",
       "      <th>1</th>\n",
       "      <td>tCbdrRPZA0oiIYSmHG3J0w</td>\n",
       "      <td>Flying Elephants at PDX</td>\n",
       "      <td>7000 NE Airport Way</td>\n",
       "      <td>Portland</td>\n",
       "      <td>OR</td>\n",
       "      <td>97218</td>\n",
       "      <td>45.588906</td>\n",
       "      <td>-122.593331</td>\n",
       "      <td>4.0</td>\n",
       "      <td>126</td>\n",
       "      <td>1</td>\n",
       "      <td>{'RestaurantsTakeOut': 'True', 'RestaurantsAtt...</td>\n",
       "      <td>Salad, Soup, Sandwiches, Delis, Restaurants, C...</td>\n",
       "      <td>{'Monday': '5:0-18:0', 'Tuesday': '5:0-17:0', ...</td>\n",
       "    </tr>\n",
       "    <tr>\n",
       "      <th>2</th>\n",
       "      <td>bvN78flM8NLprQ1a1y5dRg</td>\n",
       "      <td>The Reclaimory</td>\n",
       "      <td>4720 Hawthorne Ave</td>\n",
       "      <td>Portland</td>\n",
       "      <td>OR</td>\n",
       "      <td>97214</td>\n",
       "      <td>45.511907</td>\n",
       "      <td>-122.613693</td>\n",
       "      <td>4.5</td>\n",
       "      <td>13</td>\n",
       "      <td>1</td>\n",
       "      <td>{'BusinessAcceptsCreditCards': 'True', 'Restau...</td>\n",
       "      <td>Antiques, Fashion, Used, Vintage &amp; Consignment...</td>\n",
       "      <td>{'Thursday': '11:0-18:0', 'Friday': '11:0-18:0...</td>\n",
       "    </tr>\n",
       "    <tr>\n",
       "      <th>3</th>\n",
       "      <td>oaepsyvc0J17qwi8cfrOWg</td>\n",
       "      <td>Great Clips</td>\n",
       "      <td>2566 Enterprise Rd</td>\n",
       "      <td>Orange City</td>\n",
       "      <td>FL</td>\n",
       "      <td>32763</td>\n",
       "      <td>28.914482</td>\n",
       "      <td>-81.295979</td>\n",
       "      <td>3.0</td>\n",
       "      <td>8</td>\n",
       "      <td>1</td>\n",
       "      <td>{'RestaurantsPriceRange2': '1', 'BusinessAccep...</td>\n",
       "      <td>Beauty &amp; Spas, Hair Salons</td>\n",
       "      <td>None</td>\n",
       "    </tr>\n",
       "    <tr>\n",
       "      <th>4</th>\n",
       "      <td>PE9uqAjdw0E4-8mjGl3wVA</td>\n",
       "      <td>Crossfit Terminus</td>\n",
       "      <td>1046 Memorial Dr SE</td>\n",
       "      <td>Atlanta</td>\n",
       "      <td>GA</td>\n",
       "      <td>30316</td>\n",
       "      <td>33.747027</td>\n",
       "      <td>-84.353424</td>\n",
       "      <td>4.0</td>\n",
       "      <td>14</td>\n",
       "      <td>1</td>\n",
       "      <td>{'GoodForKids': 'False', 'BusinessParking': '{...</td>\n",
       "      <td>Gyms, Active Life, Interval Training Gyms, Fit...</td>\n",
       "      <td>{'Monday': '16:0-19:0', 'Tuesday': '16:0-19:0'...</td>\n",
       "    </tr>\n",
       "  </tbody>\n",
       "</table>\n",
       "</div>\n",
       "      <button class=\"colab-df-convert\" onclick=\"convertToInteractive('df-c4c210af-048e-4b68-b34a-cd0da6ab17ee')\"\n",
       "              title=\"Convert this dataframe to an interactive table.\"\n",
       "              style=\"display:none;\">\n",
       "        \n",
       "  <svg xmlns=\"http://www.w3.org/2000/svg\" height=\"24px\"viewBox=\"0 0 24 24\"\n",
       "       width=\"24px\">\n",
       "    <path d=\"M0 0h24v24H0V0z\" fill=\"none\"/>\n",
       "    <path d=\"M18.56 5.44l.94 2.06.94-2.06 2.06-.94-2.06-.94-.94-2.06-.94 2.06-2.06.94zm-11 1L8.5 8.5l.94-2.06 2.06-.94-2.06-.94L8.5 2.5l-.94 2.06-2.06.94zm10 10l.94 2.06.94-2.06 2.06-.94-2.06-.94-.94-2.06-.94 2.06-2.06.94z\"/><path d=\"M17.41 7.96l-1.37-1.37c-.4-.4-.92-.59-1.43-.59-.52 0-1.04.2-1.43.59L10.3 9.45l-7.72 7.72c-.78.78-.78 2.05 0 2.83L4 21.41c.39.39.9.59 1.41.59.51 0 1.02-.2 1.41-.59l7.78-7.78 2.81-2.81c.8-.78.8-2.07 0-2.86zM5.41 20L4 18.59l7.72-7.72 1.47 1.35L5.41 20z\"/>\n",
       "  </svg>\n",
       "      </button>\n",
       "      \n",
       "  <style>\n",
       "    .colab-df-container {\n",
       "      display:flex;\n",
       "      flex-wrap:wrap;\n",
       "      gap: 12px;\n",
       "    }\n",
       "\n",
       "    .colab-df-convert {\n",
       "      background-color: #E8F0FE;\n",
       "      border: none;\n",
       "      border-radius: 50%;\n",
       "      cursor: pointer;\n",
       "      display: none;\n",
       "      fill: #1967D2;\n",
       "      height: 32px;\n",
       "      padding: 0 0 0 0;\n",
       "      width: 32px;\n",
       "    }\n",
       "\n",
       "    .colab-df-convert:hover {\n",
       "      background-color: #E2EBFA;\n",
       "      box-shadow: 0px 1px 2px rgba(60, 64, 67, 0.3), 0px 1px 3px 1px rgba(60, 64, 67, 0.15);\n",
       "      fill: #174EA6;\n",
       "    }\n",
       "\n",
       "    [theme=dark] .colab-df-convert {\n",
       "      background-color: #3B4455;\n",
       "      fill: #D2E3FC;\n",
       "    }\n",
       "\n",
       "    [theme=dark] .colab-df-convert:hover {\n",
       "      background-color: #434B5C;\n",
       "      box-shadow: 0px 1px 3px 1px rgba(0, 0, 0, 0.15);\n",
       "      filter: drop-shadow(0px 1px 2px rgba(0, 0, 0, 0.3));\n",
       "      fill: #FFFFFF;\n",
       "    }\n",
       "  </style>\n",
       "\n",
       "      <script>\n",
       "        const buttonEl =\n",
       "          document.querySelector('#df-c4c210af-048e-4b68-b34a-cd0da6ab17ee button.colab-df-convert');\n",
       "        buttonEl.style.display =\n",
       "          google.colab.kernel.accessAllowed ? 'block' : 'none';\n",
       "\n",
       "        async function convertToInteractive(key) {\n",
       "          const element = document.querySelector('#df-c4c210af-048e-4b68-b34a-cd0da6ab17ee');\n",
       "          const dataTable =\n",
       "            await google.colab.kernel.invokeFunction('convertToInteractive',\n",
       "                                                     [key], {});\n",
       "          if (!dataTable) return;\n",
       "\n",
       "          const docLinkHtml = 'Like what you see? Visit the ' +\n",
       "            '<a target=\"_blank\" href=https://colab.research.google.com/notebooks/data_table.ipynb>data table notebook</a>'\n",
       "            + ' to learn more about interactive tables.';\n",
       "          element.innerHTML = '';\n",
       "          dataTable['output_type'] = 'display_data';\n",
       "          await google.colab.output.renderOutput(dataTable, element);\n",
       "          const docLink = document.createElement('div');\n",
       "          docLink.innerHTML = docLinkHtml;\n",
       "          element.appendChild(docLink);\n",
       "        }\n",
       "      </script>\n",
       "    </div>\n",
       "  </div>\n",
       "  "
      ],
      "text/plain": [
       "              business_id  ...                                              hours\n",
       "0  6iYb2HFDywm3zjuRg0shjw  ...  {'Monday': '11:0-23:0', 'Tuesday': '11:0-23:0'...\n",
       "1  tCbdrRPZA0oiIYSmHG3J0w  ...  {'Monday': '5:0-18:0', 'Tuesday': '5:0-17:0', ...\n",
       "2  bvN78flM8NLprQ1a1y5dRg  ...  {'Thursday': '11:0-18:0', 'Friday': '11:0-18:0...\n",
       "3  oaepsyvc0J17qwi8cfrOWg  ...                                               None\n",
       "4  PE9uqAjdw0E4-8mjGl3wVA  ...  {'Monday': '16:0-19:0', 'Tuesday': '16:0-19:0'...\n",
       "\n",
       "[5 rows x 14 columns]"
      ]
     },
     "execution_count": 68,
     "metadata": {},
     "output_type": "execute_result"
    }
   ],
   "source": [
    "#Load data about all businesses\n",
    "business_df = load_rows(BUSINESS_PATH)\n",
    "business_df.head()"
   ]
  },
  {
   "cell_type": "code",
   "execution_count": null,
   "metadata": {
    "colab": {
     "base_uri": "https://localhost:8080/"
    },
    "execution": {
     "iopub.execute_input": "2022-02-16T13:44:49.562631Z",
     "iopub.status.busy": "2022-02-16T13:44:49.562311Z",
     "iopub.status.idle": "2022-02-16T13:44:52.566454Z",
     "shell.execute_reply": "2022-02-16T13:44:52.565477Z",
     "shell.execute_reply.started": "2022-02-16T13:44:49.562586Z"
    },
    "id": "YO8X7f98p4JZ",
    "outputId": "c2b54a62-ffe4-4cb2-9c81-57d807408bae"
   },
   "outputs": [
    {
     "name": "stdout",
     "output_type": "stream",
     "text": [
      "CPU times: user 2.82 s, sys: 15.9 ms, total: 2.84 s\n",
      "Wall time: 2.84 s\n"
     ]
    }
   ],
   "source": [
    "%%time\n",
    "\n",
    "#Here we preprocess our businesses data\n",
    "def preprocess_business_df(df):\n",
    "    \"\"\"\n",
    "    Preprocess data from BUSINESS_PATH\n",
    "    returns final DataFrame\n",
    "    \"\"\"\n",
    "    #mask to only select businesses which are either Restaurant or serve Food\n",
    "    mask = df.categories.str.contains('Restaurant', na=False) | df.categories.str.contains('Food', na=False)\n",
    "    df = df[mask]\n",
    "    #Changing business_id to numbers\n",
    "    global businessid_to_idx\n",
    "    businessid_to_idx = {b_id : idx for idx, b_id in enumerate(df.business_id.unique())}\n",
    "    df.business_id = df.business_id.map(lambda x: businessid_to_idx[x])\n",
    "\n",
    "    #TDT\n",
    "    df.is_open = df.is_open.astype(bool)\n",
    "\n",
    "    # Exploding attributes [MultiCategorization]\n",
    "    attr = [col for col in df.attributes.explode().unique() if col is not None]\n",
    "    lst_of_attr_dict = []\n",
    "    for attr_dict in df.attributes:\n",
    "        if not attr_dict:\n",
    "            lst_of_attr_dict.append({})\n",
    "            continue\n",
    "\n",
    "        if 'BusinessParking' in attr_dict:\n",
    "            if type(attr_dict['BusinessParking']) == str:\n",
    "                attr_dict['BusinessParking'] = ('True' in attr_dict['BusinessParking'])\n",
    "\n",
    "        lst_of_attr_dict.append(attr_dict)\n",
    "    \n",
    "    attr_df = pd.DataFrame(lst_of_attr_dict, columns=attr)\n",
    "    for col in attr_df:\n",
    "        #Handling missing\n",
    "        #Strategy -> absence of attribute means restauratn doesn't have it\n",
    "        #ex. If parking is null then restaurant doesn't have parking\n",
    "        attr_df[col] = attr_df[col].fillna(False).astype(bool)\n",
    "    \n",
    "    df = pd.concat([df.reset_index().drop('index', axis=1), attr_df], axis=1)\n",
    "    df.drop(['attributes'], axis=1, inplace=True)\n",
    "    \n",
    "    #Exploding hours ie. getting opening and closing time for various days\n",
    "    lst_of_time = []\n",
    "    for time_dict in df.hours:\n",
    "        if not time_dict:\n",
    "            lst_of_time.append({})\n",
    "            continue\n",
    "        lst_of_time.append(time_dict)\n",
    "    time_df = pd.DataFrame(lst_of_time)\n",
    "    df = pd.concat([df, time_df], axis=1).drop('hours', axis=1)\n",
    "    \n",
    "    return df\n",
    "\n",
    "business_df = preprocess_business_df(business_df)\n",
    "business_df.head()"
   ]
  },
  {
   "cell_type": "code",
   "execution_count": null,
   "metadata": {
    "colab": {
     "base_uri": "https://localhost:8080/"
    },
    "execution": {
     "iopub.execute_input": "2022-02-16T13:44:52.568926Z",
     "iopub.status.busy": "2022-02-16T13:44:52.568308Z",
     "iopub.status.idle": "2022-02-16T13:44:52.71592Z",
     "shell.execute_reply": "2022-02-16T13:44:52.714777Z",
     "shell.execute_reply.started": "2022-02-16T13:44:52.568879Z"
    },
    "id": "JJFYDV9Jp4Ja",
    "outputId": "9f222645-96f7-4a5b-fe43-027441873e49"
   },
   "outputs": [
    {
     "name": "stdout",
     "output_type": "stream",
     "text": [
      "<class 'pandas.core.frame.DataFrame'>\n",
      "RangeIndex: 63915 entries, 0 to 63914\n",
      "Data columns (total 58 columns):\n",
      " #   Column                      Non-Null Count  Dtype  \n",
      "---  ------                      --------------  -----  \n",
      " 0   business_id                 63915 non-null  int64  \n",
      " 1   name                        63915 non-null  object \n",
      " 2   address                     63915 non-null  object \n",
      " 3   city                        63915 non-null  object \n",
      " 4   state                       63915 non-null  object \n",
      " 5   postal_code                 63915 non-null  object \n",
      " 6   latitude                    63915 non-null  float64\n",
      " 7   longitude                   63915 non-null  float64\n",
      " 8   stars                       63915 non-null  float64\n",
      " 9   review_count                63915 non-null  int64  \n",
      " 10  is_open                     63915 non-null  bool   \n",
      " 11  categories                  63915 non-null  object \n",
      " 12  RestaurantsTableService     63915 non-null  bool   \n",
      " 13  WiFi                        63915 non-null  bool   \n",
      " 14  BikeParking                 63915 non-null  bool   \n",
      " 15  BusinessParking             63915 non-null  bool   \n",
      " 16  BusinessAcceptsCreditCards  63915 non-null  bool   \n",
      " 17  RestaurantsReservations     63915 non-null  bool   \n",
      " 18  WheelchairAccessible        63915 non-null  bool   \n",
      " 19  Caters                      63915 non-null  bool   \n",
      " 20  OutdoorSeating              63915 non-null  bool   \n",
      " 21  RestaurantsGoodForGroups    63915 non-null  bool   \n",
      " 22  HappyHour                   63915 non-null  bool   \n",
      " 23  BusinessAcceptsBitcoin      63915 non-null  bool   \n",
      " 24  RestaurantsPriceRange2      63915 non-null  bool   \n",
      " 25  Ambience                    63915 non-null  bool   \n",
      " 26  HasTV                       63915 non-null  bool   \n",
      " 27  Alcohol                     63915 non-null  bool   \n",
      " 28  GoodForMeal                 63915 non-null  bool   \n",
      " 29  DogsAllowed                 63915 non-null  bool   \n",
      " 30  RestaurantsTakeOut          63915 non-null  bool   \n",
      " 31  NoiseLevel                  63915 non-null  bool   \n",
      " 32  RestaurantsAttire           63915 non-null  bool   \n",
      " 33  RestaurantsDelivery         63915 non-null  bool   \n",
      " 34  GoodForKids                 63915 non-null  bool   \n",
      " 35  ByAppointmentOnly           63915 non-null  bool   \n",
      " 36  Music                       63915 non-null  bool   \n",
      " 37  GoodForDancing              63915 non-null  bool   \n",
      " 38  BestNights                  63915 non-null  bool   \n",
      " 39  BYOB                        63915 non-null  bool   \n",
      " 40  CoatCheck                   63915 non-null  bool   \n",
      " 41  Smoking                     63915 non-null  bool   \n",
      " 42  DriveThru                   63915 non-null  bool   \n",
      " 43  BYOBCorkage                 63915 non-null  bool   \n",
      " 44  Corkage                     63915 non-null  bool   \n",
      " 45  RestaurantsCounterService   63915 non-null  bool   \n",
      " 46  AcceptsInsurance            63915 non-null  bool   \n",
      " 47  DietaryRestrictions         63915 non-null  bool   \n",
      " 48  AgesAllowed                 63915 non-null  bool   \n",
      " 49  Open24Hours                 63915 non-null  bool   \n",
      " 50  HairSpecializesIn           63915 non-null  bool   \n",
      " 51  Monday                      47988 non-null  object \n",
      " 52  Tuesday                     50048 non-null  object \n",
      " 53  Wednesday                   51796 non-null  object \n",
      " 54  Thursday                    52549 non-null  object \n",
      " 55  Friday                      52789 non-null  object \n",
      " 56  Saturday                    51050 non-null  object \n",
      " 57  Sunday                      44785 non-null  object \n",
      "dtypes: bool(40), float64(3), int64(2), object(13)\n",
      "memory usage: 11.2+ MB\n"
     ]
    }
   ],
   "source": [
    "# Looking at overview of our data\n",
    "business_df.info()"
   ]
  },
  {
   "cell_type": "code",
   "execution_count": null,
   "metadata": {
    "execution": {
     "iopub.execute_input": "2022-02-16T13:44:52.719453Z",
     "iopub.status.busy": "2022-02-16T13:44:52.719082Z",
     "iopub.status.idle": "2022-02-16T13:44:52.725765Z",
     "shell.execute_reply": "2022-02-16T13:44:52.724492Z",
     "shell.execute_reply.started": "2022-02-16T13:44:52.719405Z"
    },
    "id": "eLjsaGb2p4Ja"
   },
   "outputs": [],
   "source": [
    "# Completing Business Table Schema\n",
    "for bool_col in business_df.columns[12:51]:\n",
    "    businesses_schema += '    \\\"' + bool_col + '\\\"' + ' BOOLEAN,\\n'\n",
    "for day in business_df.columns[51:]:\n",
    "    businesses_schema += '    \\\"' + day + '\\\"' + ' VARCHAR,\\n'\n",
    "    \n",
    "businesses_schema = businesses_schema[:-2] + schema_close"
   ]
  },
  {
   "cell_type": "code",
   "execution_count": null,
   "metadata": {
    "colab": {
     "base_uri": "https://localhost:8080/"
    },
    "execution": {
     "iopub.execute_input": "2022-02-16T13:46:48.20169Z",
     "iopub.status.busy": "2022-02-16T13:46:48.20139Z",
     "iopub.status.idle": "2022-02-16T13:46:52.876803Z",
     "shell.execute_reply": "2022-02-16T13:46:52.875067Z",
     "shell.execute_reply.started": "2022-02-16T13:46:48.201659Z"
    },
    "id": "4PSAqI-Op4Ja",
    "outputId": "908547e0-f997-4fce-fe39-433e86e4d4bb"
   },
   "outputs": [
    {
     "name": "stdout",
     "output_type": "stream",
     "text": [
      "CPU times: user 3.85 s, sys: 97 ms, total: 3.94 s\n",
      "Wall time: 4.1 s\n"
     ]
    }
   ],
   "source": [
    "%%time\n",
    "#Create db\n",
    "db = init_db(\"./yelp_database_new.db\", users_schema+businesses_schema+reviews_schema)\n",
    "\n",
    "#business data to sql\n",
    "business_df.to_sql('businesses', db, if_exists='append', index=False)\n",
    "\n",
    "#release memory\n",
    "del business_df"
   ]
  },
  {
   "cell_type": "code",
   "execution_count": null,
   "metadata": {
    "execution": {
     "iopub.execute_input": "2022-02-16T13:46:52.883646Z",
     "iopub.status.busy": "2022-02-16T13:46:52.8831Z",
     "iopub.status.idle": "2022-02-16T13:46:52.891542Z",
     "shell.execute_reply": "2022-02-16T13:46:52.890372Z",
     "shell.execute_reply.started": "2022-02-16T13:46:52.883608Z"
    },
    "id": "XoBj_AUzswkQ"
   },
   "outputs": [],
   "source": [
    "def preprocess_user_df(df):\n",
    "    global userid_to_idx\n",
    "    userid_to_idx = {user : idx for idx, user in enumerate(df.user_id.unique())}\n",
    "    df.user_id = df.user_id.map(lambda x: userid_to_idx[x])\n",
    "    df.friends = df.friends.map(lambda x : str([userid_to_idx[user] for user in x.split(',') if user in userid_to_idx]))\n",
    "    df.yelping_since = pd.to_datetime(df.yelping_since)\n",
    "    df.elite = df.elite.replace('', np.nan)\n",
    "    return df"
   ]
  },
  {
   "cell_type": "code",
   "execution_count": null,
   "metadata": {
    "execution": {
     "iopub.execute_input": "2022-02-16T13:46:52.894602Z",
     "iopub.status.busy": "2022-02-16T13:46:52.893778Z",
     "iopub.status.idle": "2022-02-16T13:48:17.812014Z",
     "shell.execute_reply": "2022-02-16T13:48:17.811122Z",
     "shell.execute_reply.started": "2022-02-16T13:46:52.894555Z"
    },
    "id": "NEPhB-lwp4Ja"
   },
   "outputs": [],
   "source": [
    "#load data about users\n",
    "user_df = load_rows(USER_PATH)\n",
    "user_df.head()"
   ]
  },
  {
   "cell_type": "code",
   "execution_count": null,
   "metadata": {
    "execution": {
     "iopub.execute_input": "2022-02-16T13:48:17.820531Z",
     "iopub.status.busy": "2022-02-16T13:48:17.819835Z",
     "iopub.status.idle": "2022-02-16T13:48:17.866525Z",
     "shell.execute_reply": "2022-02-16T13:48:17.864888Z",
     "shell.execute_reply.started": "2022-02-16T13:48:17.820474Z"
    },
    "id": "waF6p5-2s17W"
   },
   "outputs": [],
   "source": [
    "user_df.info()"
   ]
  },
  {
   "cell_type": "code",
   "execution_count": null,
   "metadata": {
    "execution": {
     "iopub.execute_input": "2022-02-16T13:48:17.870095Z",
     "iopub.status.busy": "2022-02-16T13:48:17.869864Z",
     "iopub.status.idle": "2022-02-16T13:48:17.891139Z",
     "shell.execute_reply": "2022-02-16T13:48:17.889221Z",
     "shell.execute_reply.started": "2022-02-16T13:48:17.870064Z"
    },
    "id": "gz8-wbyfp4Ja"
   },
   "outputs": [],
   "source": [
    "del user_df"
   ]
  },
  {
   "cell_type": "code",
   "execution_count": null,
   "metadata": {
    "execution": {
     "iopub.execute_input": "2022-02-16T13:48:17.896727Z",
     "iopub.status.busy": "2022-02-16T13:48:17.896445Z",
     "iopub.status.idle": "2022-02-16T13:54:29.205279Z",
     "shell.execute_reply": "2022-02-16T13:54:29.204234Z",
     "shell.execute_reply.started": "2022-02-16T13:48:17.896691Z"
    },
    "id": "_bUqaLSYp4Jb"
   },
   "outputs": [],
   "source": [
    "%%time\n",
    "#Here we load data from reviews\n",
    "\n",
    "#size of review.json overpowers RAM hence we'll process data in chunks and store it to table\n",
    "for data in load_rows_gen(REVIEW_PATH):\n",
    "    #transformations\n",
    "    data.user_id = data.user_id.apply(lambda key : userid_to_idx[key] if key in userid_to_idx else np.nan)\n",
    "    data.business_id = data.business_id.apply(lambda key : businessid_to_idx[key] if key in businessid_to_idx else np.nan)\n",
    "    data.date = pd.to_datetime(data.date)\n",
    "    data.dropna(inplace=True)\n",
    "    #sending chunk to sql\n",
    "    data.to_sql('reviews', db, if_exists='append', index=False)"
   ]
  },
  {
   "cell_type": "code",
   "execution_count": null,
   "metadata": {
    "execution": {
     "iopub.execute_input": "2022-02-16T13:54:29.209988Z",
     "iopub.status.busy": "2022-02-16T13:54:29.209144Z",
     "iopub.status.idle": "2022-02-16T13:54:29.258607Z",
     "shell.execute_reply": "2022-02-16T13:54:29.256502Z",
     "shell.execute_reply.started": "2022-02-16T13:54:29.20995Z"
    },
    "id": "k4LeT6SBp4Jb"
   },
   "outputs": [],
   "source": [
    "#Looking at last chunk\n",
    "data.head()"
   ]
  },
  {
   "cell_type": "code",
   "execution_count": null,
   "metadata": {
    "execution": {
     "iopub.execute_input": "2022-02-16T13:54:29.261043Z",
     "iopub.status.busy": "2022-02-16T13:54:29.260594Z",
     "iopub.status.idle": "2022-02-16T13:54:29.415994Z",
     "shell.execute_reply": "2022-02-16T13:54:29.415008Z",
     "shell.execute_reply.started": "2022-02-16T13:54:29.260995Z"
    },
    "id": "-vmV4GHTp4Jb"
   },
   "outputs": [],
   "source": [
    "data.info()"
   ]
  },
  {
   "cell_type": "code",
   "execution_count": null,
   "metadata": {
    "execution": {
     "iopub.status.busy": "2022-02-16T13:46:04.707522Z",
     "iopub.status.idle": "2022-02-16T13:46:04.708422Z",
     "shell.execute_reply": "2022-02-16T13:46:04.708101Z",
     "shell.execute_reply.started": "2022-02-16T13:46:04.70807Z"
    },
    "id": "1Si2Me9op4Jb"
   },
   "outputs": [],
   "source": [
    "#Release memory\n",
    "del data"
   ]
  },
  {
   "cell_type": "code",
   "execution_count": null,
   "metadata": {
    "execution": {
     "iopub.execute_input": "2022-02-16T13:55:05.76086Z",
     "iopub.status.busy": "2022-02-16T13:55:05.760569Z",
     "iopub.status.idle": "2022-02-16T13:55:05.769439Z",
     "shell.execute_reply": "2022-02-16T13:55:05.767722Z",
     "shell.execute_reply.started": "2022-02-16T13:55:05.760827Z"
    },
    "id": "XfZUwPvis7bO"
   },
   "outputs": [],
   "source": [
    "def make_query(sel):\n",
    "    c = db.cursor().execute(sel)\n",
    "    return c.fetchall()\n",
    "\n",
    "def make_frame(list_of_tuples, legend):\n",
    "    framelist=[]\n",
    "    for i, cname in enumerate(legend):\n",
    "        framelist.append((cname,[e[i] for e in list_of_tuples]))\n",
    "    return pd.DataFrame.from_dict(OrderedDict(framelist))"
   ]
  },
  {
   "cell_type": "code",
   "execution_count": null,
   "metadata": {
    "execution": {
     "iopub.execute_input": "2022-02-16T13:55:05.936668Z",
     "iopub.status.busy": "2022-02-16T13:55:05.936199Z",
     "iopub.status.idle": "2022-02-16T13:55:29.518718Z",
     "shell.execute_reply": "2022-02-16T13:55:29.517749Z",
     "shell.execute_reply.started": "2022-02-16T13:55:05.936616Z"
    },
    "id": "34Tws1jxBs0d"
   },
   "outputs": [],
   "source": [
    "q = make_query(\"SELECT user_id, business_id, stars FROM reviews\")\n",
    "ratings_df = make_frame(q, legend=['user_id', 'business_id', 'stars'])\n",
    "del q\n",
    "ratings_df.head()"
   ]
  },
  {
   "cell_type": "code",
   "execution_count": null,
   "metadata": {
    "execution": {
     "iopub.execute_input": "2022-02-16T13:55:40.335718Z",
     "iopub.status.busy": "2022-02-16T13:55:40.334222Z",
     "iopub.status.idle": "2022-02-16T13:55:57.611408Z",
     "shell.execute_reply": "2022-02-16T13:55:57.610404Z",
     "shell.execute_reply.started": "2022-02-16T13:55:40.335669Z"
    },
    "id": "G5k52wE0Bs0d"
   },
   "outputs": [],
   "source": [
    "ratings_df.to_csv('ratings.csv')"
   ]
  },
  {
   "cell_type": "code",
   "execution_count": null,
   "metadata": {
    "execution": {
     "iopub.execute_input": "2022-02-16T14:00:41.010706Z",
     "iopub.status.busy": "2022-02-16T14:00:41.010397Z",
     "iopub.status.idle": "2022-02-16T14:00:42.267297Z",
     "shell.execute_reply": "2022-02-16T14:00:42.266196Z",
     "shell.execute_reply.started": "2022-02-16T14:00:41.010668Z"
    },
    "id": "qXr-uN0FBs0d"
   },
   "outputs": [],
   "source": [
    "sns.catplot(data=ratings_df, x='stars', kind='count', aspect=2)"
   ]
  },
  {
   "cell_type": "markdown",
   "metadata": {
    "id": "SYaFxBZwTpJH"
   },
   "source": [
    "###Creating the Model"
   ]
  },
  {
   "cell_type": "code",
   "execution_count": null,
   "metadata": {
    "colab": {
     "base_uri": "https://localhost:8080/"
    },
    "id": "QeRYuDzeDOOK",
    "outputId": "13075fc1-1e6b-463f-fdce-eed7f6678b3f"
   },
   "outputs": [
    {
     "name": "stdout",
     "output_type": "stream",
     "text": [
      "2.8.0\n"
     ]
    }
   ],
   "source": [
    "from tensorflow.keras.layers import Activation\n",
    "from tensorflow.keras import backend as K\n",
    "from sklearn.model_selection import train_test_split\n",
    "import tensorflow.keras as keras\n",
    "import tensorflow as tf\n",
    "print(tf.__version__)\n",
    "from tensorflow.keras.layers import Input, Embedding, Add, Dot, Flatten\n",
    "from tensorflow.keras import Model\n",
    "from tensorflow.keras.regularizers import l2\n",
    "from tensorflow.keras.optimizers import Adam\n",
    "import pydot\n",
    "from tensorflow.keras.utils import model_to_dot\n",
    "from IPython.display import SVG\n",
    "from operator import itemgetter\n",
    "from sklearn.decomposition import PCA\n",
    "%matplotlib inline"
   ]
  },
  {
   "cell_type": "code",
   "execution_count": null,
   "metadata": {
    "colab": {
     "base_uri": "https://localhost:8080/"
    },
    "id": "RS3i4EbICoXi",
    "outputId": "e3161e2e-ed8a-4db0-dfdb-1d51ad6c7f6a"
   },
   "outputs": [
    {
     "name": "stdout",
     "output_type": "stream",
     "text": [
      "Mounted at /content/drive\n"
     ]
    }
   ],
   "source": [
    "from google.colab import drive\n",
    "drive.mount('/content/drive')"
   ]
  },
  {
   "cell_type": "code",
   "execution_count": null,
   "metadata": {
    "id": "RDmA3auRCLJc"
   },
   "outputs": [],
   "source": [
    "df = pd.read_csv(\"/content/drive/MyDrive/ratings.csv\")"
   ]
  },
  {
   "cell_type": "code",
   "execution_count": null,
   "metadata": {
    "colab": {
     "base_uri": "https://localhost:8080/",
     "height": 206
    },
    "id": "Qmf-XOazHNIe",
    "outputId": "4bc5d286-692e-4be1-f7e5-fb0e3e918561"
   },
   "outputs": [
    {
     "data": {
      "text/html": [
       "\n",
       "  <div id=\"df-57fa416e-641b-497c-94ae-04b89b681b0c\">\n",
       "    <div class=\"colab-df-container\">\n",
       "      <div>\n",
       "<style scoped>\n",
       "    .dataframe tbody tr th:only-of-type {\n",
       "        vertical-align: middle;\n",
       "    }\n",
       "\n",
       "    .dataframe tbody tr th {\n",
       "        vertical-align: top;\n",
       "    }\n",
       "\n",
       "    .dataframe thead th {\n",
       "        text-align: right;\n",
       "    }\n",
       "</style>\n",
       "<table border=\"1\" class=\"dataframe\">\n",
       "  <thead>\n",
       "    <tr style=\"text-align: right;\">\n",
       "      <th></th>\n",
       "      <th>Unnamed: 0</th>\n",
       "      <th>user_id</th>\n",
       "      <th>business_id</th>\n",
       "      <th>stars</th>\n",
       "    </tr>\n",
       "  </thead>\n",
       "  <tbody>\n",
       "    <tr>\n",
       "      <th>0</th>\n",
       "      <td>0</td>\n",
       "      <td>92669</td>\n",
       "      <td>1150</td>\n",
       "      <td>4.0</td>\n",
       "    </tr>\n",
       "    <tr>\n",
       "      <th>1</th>\n",
       "      <td>1</td>\n",
       "      <td>102147</td>\n",
       "      <td>6047</td>\n",
       "      <td>4.0</td>\n",
       "    </tr>\n",
       "    <tr>\n",
       "      <th>2</th>\n",
       "      <td>2</td>\n",
       "      <td>147370</td>\n",
       "      <td>1918</td>\n",
       "      <td>2.0</td>\n",
       "    </tr>\n",
       "    <tr>\n",
       "      <th>3</th>\n",
       "      <td>3</td>\n",
       "      <td>2416</td>\n",
       "      <td>1417</td>\n",
       "      <td>4.0</td>\n",
       "    </tr>\n",
       "    <tr>\n",
       "      <th>4</th>\n",
       "      <td>4</td>\n",
       "      <td>59423</td>\n",
       "      <td>342</td>\n",
       "      <td>1.0</td>\n",
       "    </tr>\n",
       "  </tbody>\n",
       "</table>\n",
       "</div>\n",
       "      <button class=\"colab-df-convert\" onclick=\"convertToInteractive('df-57fa416e-641b-497c-94ae-04b89b681b0c')\"\n",
       "              title=\"Convert this dataframe to an interactive table.\"\n",
       "              style=\"display:none;\">\n",
       "        \n",
       "  <svg xmlns=\"http://www.w3.org/2000/svg\" height=\"24px\"viewBox=\"0 0 24 24\"\n",
       "       width=\"24px\">\n",
       "    <path d=\"M0 0h24v24H0V0z\" fill=\"none\"/>\n",
       "    <path d=\"M18.56 5.44l.94 2.06.94-2.06 2.06-.94-2.06-.94-.94-2.06-.94 2.06-2.06.94zm-11 1L8.5 8.5l.94-2.06 2.06-.94-2.06-.94L8.5 2.5l-.94 2.06-2.06.94zm10 10l.94 2.06.94-2.06 2.06-.94-2.06-.94-.94-2.06-.94 2.06-2.06.94z\"/><path d=\"M17.41 7.96l-1.37-1.37c-.4-.4-.92-.59-1.43-.59-.52 0-1.04.2-1.43.59L10.3 9.45l-7.72 7.72c-.78.78-.78 2.05 0 2.83L4 21.41c.39.39.9.59 1.41.59.51 0 1.02-.2 1.41-.59l7.78-7.78 2.81-2.81c.8-.78.8-2.07 0-2.86zM5.41 20L4 18.59l7.72-7.72 1.47 1.35L5.41 20z\"/>\n",
       "  </svg>\n",
       "      </button>\n",
       "      \n",
       "  <style>\n",
       "    .colab-df-container {\n",
       "      display:flex;\n",
       "      flex-wrap:wrap;\n",
       "      gap: 12px;\n",
       "    }\n",
       "\n",
       "    .colab-df-convert {\n",
       "      background-color: #E8F0FE;\n",
       "      border: none;\n",
       "      border-radius: 50%;\n",
       "      cursor: pointer;\n",
       "      display: none;\n",
       "      fill: #1967D2;\n",
       "      height: 32px;\n",
       "      padding: 0 0 0 0;\n",
       "      width: 32px;\n",
       "    }\n",
       "\n",
       "    .colab-df-convert:hover {\n",
       "      background-color: #E2EBFA;\n",
       "      box-shadow: 0px 1px 2px rgba(60, 64, 67, 0.3), 0px 1px 3px 1px rgba(60, 64, 67, 0.15);\n",
       "      fill: #174EA6;\n",
       "    }\n",
       "\n",
       "    [theme=dark] .colab-df-convert {\n",
       "      background-color: #3B4455;\n",
       "      fill: #D2E3FC;\n",
       "    }\n",
       "\n",
       "    [theme=dark] .colab-df-convert:hover {\n",
       "      background-color: #434B5C;\n",
       "      box-shadow: 0px 1px 3px 1px rgba(0, 0, 0, 0.15);\n",
       "      filter: drop-shadow(0px 1px 2px rgba(0, 0, 0, 0.3));\n",
       "      fill: #FFFFFF;\n",
       "    }\n",
       "  </style>\n",
       "\n",
       "      <script>\n",
       "        const buttonEl =\n",
       "          document.querySelector('#df-57fa416e-641b-497c-94ae-04b89b681b0c button.colab-df-convert');\n",
       "        buttonEl.style.display =\n",
       "          google.colab.kernel.accessAllowed ? 'block' : 'none';\n",
       "\n",
       "        async function convertToInteractive(key) {\n",
       "          const element = document.querySelector('#df-57fa416e-641b-497c-94ae-04b89b681b0c');\n",
       "          const dataTable =\n",
       "            await google.colab.kernel.invokeFunction('convertToInteractive',\n",
       "                                                     [key], {});\n",
       "          if (!dataTable) return;\n",
       "\n",
       "          const docLinkHtml = 'Like what you see? Visit the ' +\n",
       "            '<a target=\"_blank\" href=https://colab.research.google.com/notebooks/data_table.ipynb>data table notebook</a>'\n",
       "            + ' to learn more about interactive tables.';\n",
       "          element.innerHTML = '';\n",
       "          dataTable['output_type'] = 'display_data';\n",
       "          await google.colab.output.renderOutput(dataTable, element);\n",
       "          const docLink = document.createElement('div');\n",
       "          docLink.innerHTML = docLinkHtml;\n",
       "          element.appendChild(docLink);\n",
       "        }\n",
       "      </script>\n",
       "    </div>\n",
       "  </div>\n",
       "  "
      ],
      "text/plain": [
       "   Unnamed: 0  user_id  business_id  stars\n",
       "0           0    92669         1150    4.0\n",
       "1           1   102147         6047    4.0\n",
       "2           2   147370         1918    2.0\n",
       "3           3     2416         1417    4.0\n",
       "4           4    59423          342    1.0"
      ]
     },
     "execution_count": 11,
     "metadata": {},
     "output_type": "execute_result"
    }
   ],
   "source": [
    "df.head()"
   ]
  },
  {
   "cell_type": "code",
   "execution_count": null,
   "metadata": {
    "colab": {
     "base_uri": "https://localhost:8080/"
    },
    "id": "n2N5Tcx6Bs0e",
    "outputId": "f5fc10ae-bdfc-4ec8-c00b-26630c729eae"
   },
   "outputs": [
    {
     "data": {
      "text/plain": [
       "((3973925, 4), (993482, 4))"
      ]
     },
     "execution_count": 5,
     "metadata": {},
     "output_type": "execute_result"
    }
   ],
   "source": [
    "np.random.seed=2017\n",
    "train_indices, val_indices = train_test_split(range(df.shape[0]), train_size=0.8)\n",
    "trdf = df.iloc[train_indices]\n",
    "valdf = df.iloc[val_indices]\n",
    "trdf.shape, valdf.shape"
   ]
  },
  {
   "cell_type": "code",
   "execution_count": null,
   "metadata": {
    "id": "msz3SfTlDRzF"
   },
   "outputs": [],
   "source": [
    "L = 50\n",
    "REG = 1e-2"
   ]
  },
  {
   "cell_type": "code",
   "execution_count": null,
   "metadata": {
    "id": "LGL0W-BoEPML"
   },
   "outputs": [],
   "source": [
    "def create_bias(name, inp, n_in, reg):\n",
    "    #x = Embedding(n_in, 1, input_length=1, embeddings_regularizer=l2(reg))(inp)\n",
    "    x = Embedding(n_in, 1, input_length=1, name=name)(inp)\n",
    "    return Flatten(name=name+'_flat')(x)"
   ]
  },
  {
   "cell_type": "code",
   "execution_count": null,
   "metadata": {
    "id": "8xlQuYGIGpuK"
   },
   "outputs": [],
   "source": [
    "def embedding_input(name, n_in, n_out, reg):\n",
    "    inp = Input(shape=(1,), dtype='int64', name=name)\n",
    "    return inp, Embedding(n_in, n_out, input_length=1, name=name.split('_')[0]+'_factor', embeddings_regularizer=l2(reg))(inp)"
   ]
  },
  {
   "cell_type": "code",
   "execution_count": null,
   "metadata": {
    "colab": {
     "base_uri": "https://localhost:8080/"
    },
    "id": "fdxV2lCuHApg",
    "outputId": "c7d121ba-69b5-4b96-a93a-b648389e5f99"
   },
   "outputs": [
    {
     "data": {
      "text/plain": [
       "(822726, 63891)"
      ]
     },
     "execution_count": 13,
     "metadata": {},
     "output_type": "execute_result"
    }
   ],
   "source": [
    "nusers = df.user_id.nunique()\n",
    "nrestaurants = df.business_id.nunique()\n",
    "nusers, nrestaurants"
   ]
  },
  {
   "cell_type": "code",
   "execution_count": null,
   "metadata": {
    "id": "KB-mP2PEGr7d"
   },
   "outputs": [],
   "source": [
    "user_input, uLmat = embedding_input('user_input', nusers, L, REG)\n",
    "restaurant_input, rLmat = embedding_input('restaurant_input', nrestaurants, L, REG)"
   ]
  },
  {
   "cell_type": "code",
   "execution_count": null,
   "metadata": {
    "colab": {
     "base_uri": "https://localhost:8080/"
    },
    "id": "blidte4sGs15",
    "outputId": "4ee08ac7-1b06-4c0f-b4b0-4c1b51cf59f9"
   },
   "outputs": [
    {
     "data": {
      "text/plain": [
       "(TensorShape([None, 1]), TensorShape([None, 1]))"
      ]
     },
     "execution_count": 16,
     "metadata": {},
     "output_type": "execute_result"
    }
   ],
   "source": [
    "user_input.shape, restaurant_input.shape"
   ]
  },
  {
   "cell_type": "code",
   "execution_count": null,
   "metadata": {
    "colab": {
     "base_uri": "https://localhost:8080/"
    },
    "id": "6iY4Mhe7G2_5",
    "outputId": "06957be6-3663-41ce-da2f-6a816be86788"
   },
   "outputs": [
    {
     "data": {
      "text/plain": [
       "(TensorShape([None, 1, 50]), TensorShape([None, 1, 50]))"
      ]
     },
     "execution_count": 17,
     "metadata": {},
     "output_type": "execute_result"
    }
   ],
   "source": [
    "uLmat.shape, rLmat.shape"
   ]
  },
  {
   "cell_type": "code",
   "execution_count": null,
   "metadata": {
    "id": "XfQ02vgBHWDU"
   },
   "outputs": [],
   "source": [
    "user_bias = create_bias('user_bias', user_input, nusers, REG)\n",
    "restaurant_bias = create_bias('restaurant_bias', restaurant_input, nrestaurants, REG)"
   ]
  },
  {
   "cell_type": "code",
   "execution_count": null,
   "metadata": {
    "colab": {
     "base_uri": "https://localhost:8080/"
    },
    "id": "8g78ENe3HpEZ",
    "outputId": "f0b6c9d7-c027-4562-c672-d935369fb07c"
   },
   "outputs": [
    {
     "data": {
      "text/plain": [
       "(TensorShape([None, 1]), TensorShape([None, 1]))"
      ]
     },
     "execution_count": 21,
     "metadata": {},
     "output_type": "execute_result"
    }
   ],
   "source": [
    "user_bias.shape, restaurant_bias.shape"
   ]
  },
  {
   "cell_type": "code",
   "execution_count": null,
   "metadata": {
    "id": "EeKQFtPYHvN6"
   },
   "outputs": [],
   "source": [
    "residual = Dot(axes=2, name=\"residual\")([uLmat, rLmat])"
   ]
  },
  {
   "cell_type": "code",
   "execution_count": null,
   "metadata": {
    "colab": {
     "base_uri": "https://localhost:8080/"
    },
    "id": "Wb5tbh_3H09h",
    "outputId": "7b832397-5025-4d22-84ec-54de55af265c"
   },
   "outputs": [
    {
     "data": {
      "text/plain": [
       "TensorShape([None, 1, 1])"
      ]
     },
     "execution_count": 23,
     "metadata": {},
     "output_type": "execute_result"
    }
   ],
   "source": [
    "residual.shape"
   ]
  },
  {
   "cell_type": "code",
   "execution_count": null,
   "metadata": {
    "colab": {
     "base_uri": "https://localhost:8080/"
    },
    "id": "wfRYr7W0H21j",
    "outputId": "7d2be62b-463a-42a3-e359-be5a252e4521"
   },
   "outputs": [
    {
     "data": {
      "text/plain": [
       "TensorShape([None, 1])"
      ]
     },
     "execution_count": 24,
     "metadata": {},
     "output_type": "execute_result"
    }
   ],
   "source": [
    "residflat = Flatten(name=\"residual_flat\")(residual)\n",
    "residflat.shape"
   ]
  },
  {
   "cell_type": "code",
   "execution_count": null,
   "metadata": {
    "id": "onXq6ZWcH4nP"
   },
   "outputs": [],
   "source": [
    "regression = Add(name=\"regression\")([user_bias, restaurant_bias, residflat])"
   ]
  },
  {
   "cell_type": "code",
   "execution_count": null,
   "metadata": {
    "colab": {
     "base_uri": "https://localhost:8080/"
    },
    "id": "tiWgkj8VH8Re",
    "outputId": "c4bd6213-b33d-488a-d2dd-951266ddf83e"
   },
   "outputs": [
    {
     "data": {
      "text/plain": [
       "TensorShape([None, 1])"
      ]
     },
     "execution_count": 26,
     "metadata": {},
     "output_type": "execute_result"
    }
   ],
   "source": [
    "regression.shape"
   ]
  },
  {
   "cell_type": "code",
   "execution_count": null,
   "metadata": {
    "id": "wOqmL5sSH995"
   },
   "outputs": [],
   "source": [
    "def sigmoid_maker(low, high):\n",
    "    def custom_sigmoid(x):\n",
    "        return K.sigmoid(x)*(high - low) + low\n",
    "    return custom_sigmoid"
   ]
  },
  {
   "cell_type": "code",
   "execution_count": null,
   "metadata": {
    "id": "J7dIU2frH_xq"
   },
   "outputs": [],
   "source": [
    "cs = sigmoid_maker(0, 5.5)"
   ]
  },
  {
   "cell_type": "code",
   "execution_count": null,
   "metadata": {
    "id": "LhEVDAYrIDRH"
   },
   "outputs": [],
   "source": [
    "output = Activation(cs, name=\"Sigmoid_Range\")(regression)"
   ]
  },
  {
   "cell_type": "code",
   "execution_count": null,
   "metadata": {
    "id": "hp3twbHTIFA7"
   },
   "outputs": [],
   "source": [
    "model = Model([user_input, restaurant_input], output)\n",
    "model.compile(Adam(0.01), loss='mse')"
   ]
  },
  {
   "cell_type": "code",
   "execution_count": null,
   "metadata": {
    "colab": {
     "base_uri": "https://localhost:8080/"
    },
    "id": "1hLwf3QFILYK",
    "outputId": "7e38cb1e-8358-4715-d0d0-d267dd8ae29f"
   },
   "outputs": [
    {
     "name": "stdout",
     "output_type": "stream",
     "text": [
      "Model: \"model_1\"\n",
      "__________________________________________________________________________________________________\n",
      " Layer (type)                   Output Shape         Param #     Connected to                     \n",
      "==================================================================================================\n",
      " user_input (InputLayer)        [(None, 1)]          0           []                               \n",
      "                                                                                                  \n",
      " restaurant_input (InputLayer)  [(None, 1)]          0           []                               \n",
      "                                                                                                  \n",
      " user_factor (Embedding)        (None, 1, 50)        41136300    ['user_input[0][0]']             \n",
      "                                                                                                  \n",
      " restaurant_factor (Embedding)  (None, 1, 50)        3194550     ['restaurant_input[0][0]']       \n",
      "                                                                                                  \n",
      " user_bias (Embedding)          (None, 1, 1)         822726      ['user_input[0][0]']             \n",
      "                                                                                                  \n",
      " restaurant_bias (Embedding)    (None, 1, 1)         63891       ['restaurant_input[0][0]']       \n",
      "                                                                                                  \n",
      " residual (Dot)                 (None, 1, 1)         0           ['user_factor[0][0]',            \n",
      "                                                                  'restaurant_factor[0][0]']      \n",
      "                                                                                                  \n",
      " user_bias_flat (Flatten)       (None, 1)            0           ['user_bias[0][0]']              \n",
      "                                                                                                  \n",
      " restaurant_bias_flat (Flatten)  (None, 1)           0           ['restaurant_bias[0][0]']        \n",
      "                                                                                                  \n",
      " residual_flat (Flatten)        (None, 1)            0           ['residual[0][0]']               \n",
      "                                                                                                  \n",
      " regression (Add)               (None, 1)            0           ['user_bias_flat[0][0]',         \n",
      "                                                                  'restaurant_bias_flat[0][0]',   \n",
      "                                                                  'residual_flat[0][0]']          \n",
      "                                                                                                  \n",
      " Sigmoid_Range (Activation)     (None, 1)            0           ['regression[0][0]']             \n",
      "                                                                                                  \n",
      "==================================================================================================\n",
      "Total params: 45,217,467\n",
      "Trainable params: 45,217,467\n",
      "Non-trainable params: 0\n",
      "__________________________________________________________________________________________________\n"
     ]
    }
   ],
   "source": [
    "model.summary()"
   ]
  },
  {
   "cell_type": "code",
   "execution_count": null,
   "metadata": {
    "colab": {
     "base_uri": "https://localhost:8080/",
     "height": 668
    },
    "id": "1QqDHv-cIOy0",
    "outputId": "d26923a1-512a-4648-d9aa-1df7162955ad"
   },
   "outputs": [
    {
     "data": {
      "image/svg+xml": [
       "<svg height=\"470pt\" viewBox=\"0.00 0.00 1058.50 470.00\" width=\"1059pt\" xmlns=\"http://www.w3.org/2000/svg\" xmlns:xlink=\"http://www.w3.org/1999/xlink\">\n",
       "<g class=\"graph\" id=\"graph0\" transform=\"scale(1 1) rotate(0) translate(4 466)\">\n",
       "<title>G</title>\n",
       "<polygon fill=\"#ffffff\" points=\"-4,4 -4,-466 1054.5,-466 1054.5,4 -4,4\" stroke=\"transparent\"/>\n",
       "<!-- 140615431299920 -->\n",
       "<g class=\"node\" id=\"node1\">\n",
       "<title>140615431299920</title>\n",
       "<polygon fill=\"none\" points=\"108.5,-415.5 108.5,-461.5 408.5,-461.5 408.5,-415.5 108.5,-415.5\" stroke=\"#000000\"/>\n",
       "<text fill=\"#000000\" font-family=\"Times,serif\" font-size=\"14.00\" text-anchor=\"middle\" x=\"148.5\" y=\"-446.3\">user_input</text>\n",
       "<polyline fill=\"none\" points=\"108.5,-438.5 188.5,-438.5 \" stroke=\"#000000\"/>\n",
       "<text fill=\"#000000\" font-family=\"Times,serif\" font-size=\"14.00\" text-anchor=\"middle\" x=\"148.5\" y=\"-423.3\">InputLayer</text>\n",
       "<polyline fill=\"none\" points=\"188.5,-415.5 188.5,-461.5 \" stroke=\"#000000\"/>\n",
       "<text fill=\"#000000\" font-family=\"Times,serif\" font-size=\"14.00\" text-anchor=\"middle\" x=\"217.5\" y=\"-446.3\">input:</text>\n",
       "<polyline fill=\"none\" points=\"188.5,-438.5 246.5,-438.5 \" stroke=\"#000000\"/>\n",
       "<text fill=\"#000000\" font-family=\"Times,serif\" font-size=\"14.00\" text-anchor=\"middle\" x=\"217.5\" y=\"-423.3\">output:</text>\n",
       "<polyline fill=\"none\" points=\"246.5,-415.5 246.5,-461.5 \" stroke=\"#000000\"/>\n",
       "<text fill=\"#000000\" font-family=\"Times,serif\" font-size=\"14.00\" text-anchor=\"middle\" x=\"287\" y=\"-434.8\">[(None, 1)]</text>\n",
       "<polyline fill=\"none\" points=\"327.5,-415.5 327.5,-461.5 \" stroke=\"#000000\"/>\n",
       "<text fill=\"#000000\" font-family=\"Times,serif\" font-size=\"14.00\" text-anchor=\"middle\" x=\"368\" y=\"-434.8\">[(None, 1)]</text>\n",
       "</g>\n",
       "<!-- 140615431299856 -->\n",
       "<g class=\"node\" id=\"node3\">\n",
       "<title>140615431299856</title>\n",
       "<polygon fill=\"none\" points=\"195,-332.5 195,-378.5 504,-378.5 504,-332.5 195,-332.5\" stroke=\"#000000\"/>\n",
       "<text fill=\"#000000\" font-family=\"Times,serif\" font-size=\"14.00\" text-anchor=\"middle\" x=\"237\" y=\"-363.3\">user_factor</text>\n",
       "<polyline fill=\"none\" points=\"195,-355.5 279,-355.5 \" stroke=\"#000000\"/>\n",
       "<text fill=\"#000000\" font-family=\"Times,serif\" font-size=\"14.00\" text-anchor=\"middle\" x=\"237\" y=\"-340.3\">Embedding</text>\n",
       "<polyline fill=\"none\" points=\"279,-332.5 279,-378.5 \" stroke=\"#000000\"/>\n",
       "<text fill=\"#000000\" font-family=\"Times,serif\" font-size=\"14.00\" text-anchor=\"middle\" x=\"308\" y=\"-363.3\">input:</text>\n",
       "<polyline fill=\"none\" points=\"279,-355.5 337,-355.5 \" stroke=\"#000000\"/>\n",
       "<text fill=\"#000000\" font-family=\"Times,serif\" font-size=\"14.00\" text-anchor=\"middle\" x=\"308\" y=\"-340.3\">output:</text>\n",
       "<polyline fill=\"none\" points=\"337,-332.5 337,-378.5 \" stroke=\"#000000\"/>\n",
       "<text fill=\"#000000\" font-family=\"Times,serif\" font-size=\"14.00\" text-anchor=\"middle\" x=\"373\" y=\"-351.8\">(None, 1)</text>\n",
       "<polyline fill=\"none\" points=\"409,-332.5 409,-378.5 \" stroke=\"#000000\"/>\n",
       "<text fill=\"#000000\" font-family=\"Times,serif\" font-size=\"14.00\" text-anchor=\"middle\" x=\"456.5\" y=\"-351.8\">(None, 1, 50)</text>\n",
       "</g>\n",
       "<!-- 140615431299920&#45;&gt;140615431299856 -->\n",
       "<g class=\"edge\" id=\"edge1\">\n",
       "<title>140615431299920-&gt;140615431299856</title>\n",
       "<path d=\"M283.8486,-415.3799C293.9204,-406.1935 305.6431,-395.5013 316.3725,-385.7152\" fill=\"none\" stroke=\"#000000\"/>\n",
       "<polygon fill=\"#000000\" points=\"318.942,-388.1088 323.9718,-378.784 314.2248,-382.9369 318.942,-388.1088\" stroke=\"#000000\"/>\n",
       "</g>\n",
       "<!-- 140615430288080 -->\n",
       "<g class=\"node\" id=\"node5\">\n",
       "<title>140615430288080</title>\n",
       "<polygon fill=\"none\" points=\"0,-249.5 0,-295.5 301,-295.5 301,-249.5 0,-249.5\" stroke=\"#000000\"/>\n",
       "<text fill=\"#000000\" font-family=\"Times,serif\" font-size=\"14.00\" text-anchor=\"middle\" x=\"42\" y=\"-280.3\">user_bias</text>\n",
       "<polyline fill=\"none\" points=\"0,-272.5 84,-272.5 \" stroke=\"#000000\"/>\n",
       "<text fill=\"#000000\" font-family=\"Times,serif\" font-size=\"14.00\" text-anchor=\"middle\" x=\"42\" y=\"-257.3\">Embedding</text>\n",
       "<polyline fill=\"none\" points=\"84,-249.5 84,-295.5 \" stroke=\"#000000\"/>\n",
       "<text fill=\"#000000\" font-family=\"Times,serif\" font-size=\"14.00\" text-anchor=\"middle\" x=\"113\" y=\"-280.3\">input:</text>\n",
       "<polyline fill=\"none\" points=\"84,-272.5 142,-272.5 \" stroke=\"#000000\"/>\n",
       "<text fill=\"#000000\" font-family=\"Times,serif\" font-size=\"14.00\" text-anchor=\"middle\" x=\"113\" y=\"-257.3\">output:</text>\n",
       "<polyline fill=\"none\" points=\"142,-249.5 142,-295.5 \" stroke=\"#000000\"/>\n",
       "<text fill=\"#000000\" font-family=\"Times,serif\" font-size=\"14.00\" text-anchor=\"middle\" x=\"178\" y=\"-268.8\">(None, 1)</text>\n",
       "<polyline fill=\"none\" points=\"214,-249.5 214,-295.5 \" stroke=\"#000000\"/>\n",
       "<text fill=\"#000000\" font-family=\"Times,serif\" font-size=\"14.00\" text-anchor=\"middle\" x=\"257.5\" y=\"-268.8\">(None, 1, 1)</text>\n",
       "</g>\n",
       "<!-- 140615431299920&#45;&gt;140615430288080 -->\n",
       "<g class=\"edge\" id=\"edge3\">\n",
       "<title>140615431299920-&gt;140615430288080</title>\n",
       "<path d=\"M222.0422,-415.3009C208.9864,-405.4599 195.1325,-393.0127 185.5,-379 170.3668,-356.9852 161.3997,-327.9607 156.3371,-305.7724\" fill=\"none\" stroke=\"#000000\"/>\n",
       "<polygon fill=\"#000000\" points=\"159.72,-304.8532 154.2166,-295.7998 152.8731,-306.3091 159.72,-304.8532\" stroke=\"#000000\"/>\n",
       "</g>\n",
       "<!-- 140615431300688 -->\n",
       "<g class=\"node\" id=\"node2\">\n",
       "<title>140615431300688</title>\n",
       "<polygon fill=\"none\" points=\"626,-415.5 626,-461.5 955,-461.5 955,-415.5 626,-415.5\" stroke=\"#000000\"/>\n",
       "<text fill=\"#000000\" font-family=\"Times,serif\" font-size=\"14.00\" text-anchor=\"middle\" x=\"680.5\" y=\"-446.3\">restaurant_input</text>\n",
       "<polyline fill=\"none\" points=\"626,-438.5 735,-438.5 \" stroke=\"#000000\"/>\n",
       "<text fill=\"#000000\" font-family=\"Times,serif\" font-size=\"14.00\" text-anchor=\"middle\" x=\"680.5\" y=\"-423.3\">InputLayer</text>\n",
       "<polyline fill=\"none\" points=\"735,-415.5 735,-461.5 \" stroke=\"#000000\"/>\n",
       "<text fill=\"#000000\" font-family=\"Times,serif\" font-size=\"14.00\" text-anchor=\"middle\" x=\"764\" y=\"-446.3\">input:</text>\n",
       "<polyline fill=\"none\" points=\"735,-438.5 793,-438.5 \" stroke=\"#000000\"/>\n",
       "<text fill=\"#000000\" font-family=\"Times,serif\" font-size=\"14.00\" text-anchor=\"middle\" x=\"764\" y=\"-423.3\">output:</text>\n",
       "<polyline fill=\"none\" points=\"793,-415.5 793,-461.5 \" stroke=\"#000000\"/>\n",
       "<text fill=\"#000000\" font-family=\"Times,serif\" font-size=\"14.00\" text-anchor=\"middle\" x=\"833.5\" y=\"-434.8\">[(None, 1)]</text>\n",
       "<polyline fill=\"none\" points=\"874,-415.5 874,-461.5 \" stroke=\"#000000\"/>\n",
       "<text fill=\"#000000\" font-family=\"Times,serif\" font-size=\"14.00\" text-anchor=\"middle\" x=\"914.5\" y=\"-434.8\">[(None, 1)]</text>\n",
       "</g>\n",
       "<!-- 140615352186128 -->\n",
       "<g class=\"node\" id=\"node4\">\n",
       "<title>140615352186128</title>\n",
       "<polygon fill=\"none\" points=\"524.5,-332.5 524.5,-378.5 860.5,-378.5 860.5,-332.5 524.5,-332.5\" stroke=\"#000000\"/>\n",
       "<text fill=\"#000000\" font-family=\"Times,serif\" font-size=\"14.00\" text-anchor=\"middle\" x=\"580\" y=\"-363.3\">restaurant_factor</text>\n",
       "<polyline fill=\"none\" points=\"524.5,-355.5 635.5,-355.5 \" stroke=\"#000000\"/>\n",
       "<text fill=\"#000000\" font-family=\"Times,serif\" font-size=\"14.00\" text-anchor=\"middle\" x=\"580\" y=\"-340.3\">Embedding</text>\n",
       "<polyline fill=\"none\" points=\"635.5,-332.5 635.5,-378.5 \" stroke=\"#000000\"/>\n",
       "<text fill=\"#000000\" font-family=\"Times,serif\" font-size=\"14.00\" text-anchor=\"middle\" x=\"664.5\" y=\"-363.3\">input:</text>\n",
       "<polyline fill=\"none\" points=\"635.5,-355.5 693.5,-355.5 \" stroke=\"#000000\"/>\n",
       "<text fill=\"#000000\" font-family=\"Times,serif\" font-size=\"14.00\" text-anchor=\"middle\" x=\"664.5\" y=\"-340.3\">output:</text>\n",
       "<polyline fill=\"none\" points=\"693.5,-332.5 693.5,-378.5 \" stroke=\"#000000\"/>\n",
       "<text fill=\"#000000\" font-family=\"Times,serif\" font-size=\"14.00\" text-anchor=\"middle\" x=\"729.5\" y=\"-351.8\">(None, 1)</text>\n",
       "<polyline fill=\"none\" points=\"765.5,-332.5 765.5,-378.5 \" stroke=\"#000000\"/>\n",
       "<text fill=\"#000000\" font-family=\"Times,serif\" font-size=\"14.00\" text-anchor=\"middle\" x=\"813\" y=\"-351.8\">(None, 1, 50)</text>\n",
       "</g>\n",
       "<!-- 140615431300688&#45;&gt;140615352186128 -->\n",
       "<g class=\"edge\" id=\"edge2\">\n",
       "<title>140615431300688-&gt;140615352186128</title>\n",
       "<path d=\"M763.2015,-415.3799C752.2496,-406.1043 739.4852,-395.2936 727.8395,-385.4304\" fill=\"none\" stroke=\"#000000\"/>\n",
       "<polygon fill=\"#000000\" points=\"729.8849,-382.5761 719.992,-378.784 725.3609,-387.9178 729.8849,-382.5761\" stroke=\"#000000\"/>\n",
       "</g>\n",
       "<!-- 140615430288144 -->\n",
       "<g class=\"node\" id=\"node6\">\n",
       "<title>140615430288144</title>\n",
       "<polygon fill=\"none\" points=\"732.5,-249.5 732.5,-295.5 1050.5,-295.5 1050.5,-249.5 732.5,-249.5\" stroke=\"#000000\"/>\n",
       "<text fill=\"#000000\" font-family=\"Times,serif\" font-size=\"14.00\" text-anchor=\"middle\" x=\"783\" y=\"-280.3\">restaurant_bias</text>\n",
       "<polyline fill=\"none\" points=\"732.5,-272.5 833.5,-272.5 \" stroke=\"#000000\"/>\n",
       "<text fill=\"#000000\" font-family=\"Times,serif\" font-size=\"14.00\" text-anchor=\"middle\" x=\"783\" y=\"-257.3\">Embedding</text>\n",
       "<polyline fill=\"none\" points=\"833.5,-249.5 833.5,-295.5 \" stroke=\"#000000\"/>\n",
       "<text fill=\"#000000\" font-family=\"Times,serif\" font-size=\"14.00\" text-anchor=\"middle\" x=\"862.5\" y=\"-280.3\">input:</text>\n",
       "<polyline fill=\"none\" points=\"833.5,-272.5 891.5,-272.5 \" stroke=\"#000000\"/>\n",
       "<text fill=\"#000000\" font-family=\"Times,serif\" font-size=\"14.00\" text-anchor=\"middle\" x=\"862.5\" y=\"-257.3\">output:</text>\n",
       "<polyline fill=\"none\" points=\"891.5,-249.5 891.5,-295.5 \" stroke=\"#000000\"/>\n",
       "<text fill=\"#000000\" font-family=\"Times,serif\" font-size=\"14.00\" text-anchor=\"middle\" x=\"927.5\" y=\"-268.8\">(None, 1)</text>\n",
       "<polyline fill=\"none\" points=\"963.5,-249.5 963.5,-295.5 \" stroke=\"#000000\"/>\n",
       "<text fill=\"#000000\" font-family=\"Times,serif\" font-size=\"14.00\" text-anchor=\"middle\" x=\"1007\" y=\"-268.8\">(None, 1, 1)</text>\n",
       "</g>\n",
       "<!-- 140615431300688&#45;&gt;140615430288144 -->\n",
       "<g class=\"edge\" id=\"edge4\">\n",
       "<title>140615431300688-&gt;140615430288144</title>\n",
       "<path d=\"M832.5211,-415.3043C846.2504,-405.7587 860.3142,-393.5064 869.5,-379 883.3641,-357.1055 888.6857,-328.0723 890.6396,-305.85\" fill=\"none\" stroke=\"#000000\"/>\n",
       "<polygon fill=\"#000000\" points=\"894.132,-306.0788 891.3351,-295.8598 887.1489,-305.5926 894.132,-306.0788\" stroke=\"#000000\"/>\n",
       "</g>\n",
       "<!-- 140615430077648 -->\n",
       "<g class=\"node\" id=\"node7\">\n",
       "<title>140615430077648</title>\n",
       "<polygon fill=\"none\" points=\"319,-249.5 319,-295.5 714,-295.5 714,-249.5 319,-249.5\" stroke=\"#000000\"/>\n",
       "<text fill=\"#000000\" font-family=\"Times,serif\" font-size=\"14.00\" text-anchor=\"middle\" x=\"349.5\" y=\"-280.3\">residual</text>\n",
       "<polyline fill=\"none\" points=\"319,-272.5 380,-272.5 \" stroke=\"#000000\"/>\n",
       "<text fill=\"#000000\" font-family=\"Times,serif\" font-size=\"14.00\" text-anchor=\"middle\" x=\"349.5\" y=\"-257.3\">Dot</text>\n",
       "<polyline fill=\"none\" points=\"380,-249.5 380,-295.5 \" stroke=\"#000000\"/>\n",
       "<text fill=\"#000000\" font-family=\"Times,serif\" font-size=\"14.00\" text-anchor=\"middle\" x=\"409\" y=\"-280.3\">input:</text>\n",
       "<polyline fill=\"none\" points=\"380,-272.5 438,-272.5 \" stroke=\"#000000\"/>\n",
       "<text fill=\"#000000\" font-family=\"Times,serif\" font-size=\"14.00\" text-anchor=\"middle\" x=\"409\" y=\"-257.3\">output:</text>\n",
       "<polyline fill=\"none\" points=\"438,-249.5 438,-295.5 \" stroke=\"#000000\"/>\n",
       "<text fill=\"#000000\" font-family=\"Times,serif\" font-size=\"14.00\" text-anchor=\"middle\" x=\"532.5\" y=\"-268.8\">[(None, 1, 50), (None, 1, 50)]</text>\n",
       "<polyline fill=\"none\" points=\"627,-249.5 627,-295.5 \" stroke=\"#000000\"/>\n",
       "<text fill=\"#000000\" font-family=\"Times,serif\" font-size=\"14.00\" text-anchor=\"middle\" x=\"670.5\" y=\"-268.8\">(None, 1, 1)</text>\n",
       "</g>\n",
       "<!-- 140615431299856&#45;&gt;140615430077648 -->\n",
       "<g class=\"edge\" id=\"edge5\">\n",
       "<title>140615431299856-&gt;140615430077648</title>\n",
       "<path d=\"M396.0188,-332.3799C416.1117,-322.3936 439.7848,-310.6279 460.8043,-300.1811\" fill=\"none\" stroke=\"#000000\"/>\n",
       "<polygon fill=\"#000000\" points=\"462.5441,-303.2249 469.9413,-295.6399 459.4286,-296.9564 462.5441,-303.2249\" stroke=\"#000000\"/>\n",
       "</g>\n",
       "<!-- 140615352186128&#45;&gt;140615430077648 -->\n",
       "<g class=\"edge\" id=\"edge6\">\n",
       "<title>140615352186128-&gt;140615430077648</title>\n",
       "<path d=\"M643.4742,-332.3799C622.2035,-322.3488 597.1257,-310.5224 574.8994,-300.0406\" fill=\"none\" stroke=\"#000000\"/>\n",
       "<polygon fill=\"#000000\" points=\"576.1054,-296.7398 565.5678,-295.6399 573.1196,-303.071 576.1054,-296.7398\" stroke=\"#000000\"/>\n",
       "</g>\n",
       "<!-- 140615431544528 -->\n",
       "<g class=\"node\" id=\"node8\">\n",
       "<title>140615431544528</title>\n",
       "<polygon fill=\"none\" points=\"14.5,-166.5 14.5,-212.5 326.5,-212.5 326.5,-166.5 14.5,-166.5\" stroke=\"#000000\"/>\n",
       "<text fill=\"#000000\" font-family=\"Times,serif\" font-size=\"14.00\" text-anchor=\"middle\" x=\"62\" y=\"-197.3\">user_bias_flat</text>\n",
       "<polyline fill=\"none\" points=\"14.5,-189.5 109.5,-189.5 \" stroke=\"#000000\"/>\n",
       "<text fill=\"#000000\" font-family=\"Times,serif\" font-size=\"14.00\" text-anchor=\"middle\" x=\"62\" y=\"-174.3\">Flatten</text>\n",
       "<polyline fill=\"none\" points=\"109.5,-166.5 109.5,-212.5 \" stroke=\"#000000\"/>\n",
       "<text fill=\"#000000\" font-family=\"Times,serif\" font-size=\"14.00\" text-anchor=\"middle\" x=\"138.5\" y=\"-197.3\">input:</text>\n",
       "<polyline fill=\"none\" points=\"109.5,-189.5 167.5,-189.5 \" stroke=\"#000000\"/>\n",
       "<text fill=\"#000000\" font-family=\"Times,serif\" font-size=\"14.00\" text-anchor=\"middle\" x=\"138.5\" y=\"-174.3\">output:</text>\n",
       "<polyline fill=\"none\" points=\"167.5,-166.5 167.5,-212.5 \" stroke=\"#000000\"/>\n",
       "<text fill=\"#000000\" font-family=\"Times,serif\" font-size=\"14.00\" text-anchor=\"middle\" x=\"211\" y=\"-185.8\">(None, 1, 1)</text>\n",
       "<polyline fill=\"none\" points=\"254.5,-166.5 254.5,-212.5 \" stroke=\"#000000\"/>\n",
       "<text fill=\"#000000\" font-family=\"Times,serif\" font-size=\"14.00\" text-anchor=\"middle\" x=\"290.5\" y=\"-185.8\">(None, 1)</text>\n",
       "</g>\n",
       "<!-- 140615430288080&#45;&gt;140615431544528 -->\n",
       "<g class=\"edge\" id=\"edge7\">\n",
       "<title>140615430288080-&gt;140615431544528</title>\n",
       "<path d=\"M156.0711,-249.3799C158.0698,-241.0854 160.3643,-231.5633 162.5268,-222.5889\" fill=\"none\" stroke=\"#000000\"/>\n",
       "<polygon fill=\"#000000\" points=\"165.9493,-223.3257 164.8894,-212.784 159.1441,-221.6858 165.9493,-223.3257\" stroke=\"#000000\"/>\n",
       "</g>\n",
       "<!-- 140615352205200 -->\n",
       "<g class=\"node\" id=\"node9\">\n",
       "<title>140615352205200</title>\n",
       "<polygon fill=\"none\" points=\"702.5,-166.5 702.5,-212.5 1046.5,-212.5 1046.5,-166.5 702.5,-166.5\" stroke=\"#000000\"/>\n",
       "<text fill=\"#000000\" font-family=\"Times,serif\" font-size=\"14.00\" text-anchor=\"middle\" x=\"766\" y=\"-197.3\">restaurant_bias_flat</text>\n",
       "<polyline fill=\"none\" points=\"702.5,-189.5 829.5,-189.5 \" stroke=\"#000000\"/>\n",
       "<text fill=\"#000000\" font-family=\"Times,serif\" font-size=\"14.00\" text-anchor=\"middle\" x=\"766\" y=\"-174.3\">Flatten</text>\n",
       "<polyline fill=\"none\" points=\"829.5,-166.5 829.5,-212.5 \" stroke=\"#000000\"/>\n",
       "<text fill=\"#000000\" font-family=\"Times,serif\" font-size=\"14.00\" text-anchor=\"middle\" x=\"858.5\" y=\"-197.3\">input:</text>\n",
       "<polyline fill=\"none\" points=\"829.5,-189.5 887.5,-189.5 \" stroke=\"#000000\"/>\n",
       "<text fill=\"#000000\" font-family=\"Times,serif\" font-size=\"14.00\" text-anchor=\"middle\" x=\"858.5\" y=\"-174.3\">output:</text>\n",
       "<polyline fill=\"none\" points=\"887.5,-166.5 887.5,-212.5 \" stroke=\"#000000\"/>\n",
       "<text fill=\"#000000\" font-family=\"Times,serif\" font-size=\"14.00\" text-anchor=\"middle\" x=\"931\" y=\"-185.8\">(None, 1, 1)</text>\n",
       "<polyline fill=\"none\" points=\"974.5,-166.5 974.5,-212.5 \" stroke=\"#000000\"/>\n",
       "<text fill=\"#000000\" font-family=\"Times,serif\" font-size=\"14.00\" text-anchor=\"middle\" x=\"1010.5\" y=\"-185.8\">(None, 1)</text>\n",
       "</g>\n",
       "<!-- 140615430288144&#45;&gt;140615352205200 -->\n",
       "<g class=\"edge\" id=\"edge8\">\n",
       "<title>140615430288144-&gt;140615352205200</title>\n",
       "<path d=\"M886.7646,-249.3799C885.0657,-241.0854 883.1154,-231.5633 881.2773,-222.5889\" fill=\"none\" stroke=\"#000000\"/>\n",
       "<polygon fill=\"#000000\" points=\"884.7044,-221.8783 879.269,-212.784 877.8468,-223.2829 884.7044,-221.8783\" stroke=\"#000000\"/>\n",
       "</g>\n",
       "<!-- 140615351915408 -->\n",
       "<g class=\"node\" id=\"node10\">\n",
       "<title>140615351915408</title>\n",
       "<polygon fill=\"none\" points=\"365,-166.5 365,-212.5 668,-212.5 668,-166.5 365,-166.5\" stroke=\"#000000\"/>\n",
       "<text fill=\"#000000\" font-family=\"Times,serif\" font-size=\"14.00\" text-anchor=\"middle\" x=\"408\" y=\"-197.3\">residual_flat</text>\n",
       "<polyline fill=\"none\" points=\"365,-189.5 451,-189.5 \" stroke=\"#000000\"/>\n",
       "<text fill=\"#000000\" font-family=\"Times,serif\" font-size=\"14.00\" text-anchor=\"middle\" x=\"408\" y=\"-174.3\">Flatten</text>\n",
       "<polyline fill=\"none\" points=\"451,-166.5 451,-212.5 \" stroke=\"#000000\"/>\n",
       "<text fill=\"#000000\" font-family=\"Times,serif\" font-size=\"14.00\" text-anchor=\"middle\" x=\"480\" y=\"-197.3\">input:</text>\n",
       "<polyline fill=\"none\" points=\"451,-189.5 509,-189.5 \" stroke=\"#000000\"/>\n",
       "<text fill=\"#000000\" font-family=\"Times,serif\" font-size=\"14.00\" text-anchor=\"middle\" x=\"480\" y=\"-174.3\">output:</text>\n",
       "<polyline fill=\"none\" points=\"509,-166.5 509,-212.5 \" stroke=\"#000000\"/>\n",
       "<text fill=\"#000000\" font-family=\"Times,serif\" font-size=\"14.00\" text-anchor=\"middle\" x=\"552.5\" y=\"-185.8\">(None, 1, 1)</text>\n",
       "<polyline fill=\"none\" points=\"596,-166.5 596,-212.5 \" stroke=\"#000000\"/>\n",
       "<text fill=\"#000000\" font-family=\"Times,serif\" font-size=\"14.00\" text-anchor=\"middle\" x=\"632\" y=\"-185.8\">(None, 1)</text>\n",
       "</g>\n",
       "<!-- 140615430077648&#45;&gt;140615351915408 -->\n",
       "<g class=\"edge\" id=\"edge9\">\n",
       "<title>140615430077648-&gt;140615351915408</title>\n",
       "<path d=\"M516.5,-249.3799C516.5,-241.1745 516.5,-231.7679 516.5,-222.8786\" fill=\"none\" stroke=\"#000000\"/>\n",
       "<polygon fill=\"#000000\" points=\"520.0001,-222.784 516.5,-212.784 513.0001,-222.784 520.0001,-222.784\" stroke=\"#000000\"/>\n",
       "</g>\n",
       "<!-- 140615351881488 -->\n",
       "<g class=\"node\" id=\"node11\">\n",
       "<title>140615351881488</title>\n",
       "<polygon fill=\"none\" points=\"311,-83.5 311,-129.5 722,-129.5 722,-83.5 311,-83.5\" stroke=\"#000000\"/>\n",
       "<text fill=\"#000000\" font-family=\"Times,serif\" font-size=\"14.00\" text-anchor=\"middle\" x=\"348\" y=\"-114.3\">regression</text>\n",
       "<polyline fill=\"none\" points=\"311,-106.5 385,-106.5 \" stroke=\"#000000\"/>\n",
       "<text fill=\"#000000\" font-family=\"Times,serif\" font-size=\"14.00\" text-anchor=\"middle\" x=\"348\" y=\"-91.3\">Add</text>\n",
       "<polyline fill=\"none\" points=\"385,-83.5 385,-129.5 \" stroke=\"#000000\"/>\n",
       "<text fill=\"#000000\" font-family=\"Times,serif\" font-size=\"14.00\" text-anchor=\"middle\" x=\"414\" y=\"-114.3\">input:</text>\n",
       "<polyline fill=\"none\" points=\"385,-106.5 443,-106.5 \" stroke=\"#000000\"/>\n",
       "<text fill=\"#000000\" font-family=\"Times,serif\" font-size=\"14.00\" text-anchor=\"middle\" x=\"414\" y=\"-91.3\">output:</text>\n",
       "<polyline fill=\"none\" points=\"443,-83.5 443,-129.5 \" stroke=\"#000000\"/>\n",
       "<text fill=\"#000000\" font-family=\"Times,serif\" font-size=\"14.00\" text-anchor=\"middle\" x=\"546.5\" y=\"-102.8\">[(None, 1), (None, 1), (None, 1)]</text>\n",
       "<polyline fill=\"none\" points=\"650,-83.5 650,-129.5 \" stroke=\"#000000\"/>\n",
       "<text fill=\"#000000\" font-family=\"Times,serif\" font-size=\"14.00\" text-anchor=\"middle\" x=\"686\" y=\"-102.8\">(None, 1)</text>\n",
       "</g>\n",
       "<!-- 140615431544528&#45;&gt;140615351881488 -->\n",
       "<g class=\"edge\" id=\"edge10\">\n",
       "<title>140615431544528-&gt;140615351881488</title>\n",
       "<path d=\"M266.4208,-166.4901C311.1382,-155.7631 364.4921,-142.9643 410.4111,-131.9491\" fill=\"none\" stroke=\"#000000\"/>\n",
       "<polygon fill=\"#000000\" points=\"411.4849,-135.2909 420.3926,-129.5547 409.852,-128.484 411.4849,-135.2909\" stroke=\"#000000\"/>\n",
       "</g>\n",
       "<!-- 140615352205200&#45;&gt;140615351881488 -->\n",
       "<g class=\"edge\" id=\"edge11\">\n",
       "<title>140615352205200-&gt;140615351881488</title>\n",
       "<path d=\"M775.2525,-166.4901C728.8872,-155.7406 673.5484,-142.9107 625.9696,-131.8798\" fill=\"none\" stroke=\"#000000\"/>\n",
       "<polygon fill=\"#000000\" points=\"626.4727,-128.4037 615.9406,-129.5547 624.8917,-135.2228 626.4727,-128.4037\" stroke=\"#000000\"/>\n",
       "</g>\n",
       "<!-- 140615351915408&#45;&gt;140615351881488 -->\n",
       "<g class=\"edge\" id=\"edge12\">\n",
       "<title>140615351915408-&gt;140615351881488</title>\n",
       "<path d=\"M516.5,-166.3799C516.5,-158.1745 516.5,-148.7679 516.5,-139.8786\" fill=\"none\" stroke=\"#000000\"/>\n",
       "<polygon fill=\"#000000\" points=\"520.0001,-139.784 516.5,-129.784 513.0001,-139.784 520.0001,-139.784\" stroke=\"#000000\"/>\n",
       "</g>\n",
       "<!-- 140615351961552 -->\n",
       "<g class=\"node\" id=\"node12\">\n",
       "<title>140615351961552</title>\n",
       "<polygon fill=\"none\" points=\"360.5,-.5 360.5,-46.5 672.5,-46.5 672.5,-.5 360.5,-.5\" stroke=\"#000000\"/>\n",
       "<text fill=\"#000000\" font-family=\"Times,serif\" font-size=\"14.00\" text-anchor=\"middle\" x=\"415.5\" y=\"-31.3\">Sigmoid_Range</text>\n",
       "<polyline fill=\"none\" points=\"360.5,-23.5 470.5,-23.5 \" stroke=\"#000000\"/>\n",
       "<text fill=\"#000000\" font-family=\"Times,serif\" font-size=\"14.00\" text-anchor=\"middle\" x=\"415.5\" y=\"-8.3\">Activation</text>\n",
       "<polyline fill=\"none\" points=\"470.5,-.5 470.5,-46.5 \" stroke=\"#000000\"/>\n",
       "<text fill=\"#000000\" font-family=\"Times,serif\" font-size=\"14.00\" text-anchor=\"middle\" x=\"499.5\" y=\"-31.3\">input:</text>\n",
       "<polyline fill=\"none\" points=\"470.5,-23.5 528.5,-23.5 \" stroke=\"#000000\"/>\n",
       "<text fill=\"#000000\" font-family=\"Times,serif\" font-size=\"14.00\" text-anchor=\"middle\" x=\"499.5\" y=\"-8.3\">output:</text>\n",
       "<polyline fill=\"none\" points=\"528.5,-.5 528.5,-46.5 \" stroke=\"#000000\"/>\n",
       "<text fill=\"#000000\" font-family=\"Times,serif\" font-size=\"14.00\" text-anchor=\"middle\" x=\"564.5\" y=\"-19.8\">(None, 1)</text>\n",
       "<polyline fill=\"none\" points=\"600.5,-.5 600.5,-46.5 \" stroke=\"#000000\"/>\n",
       "<text fill=\"#000000\" font-family=\"Times,serif\" font-size=\"14.00\" text-anchor=\"middle\" x=\"636.5\" y=\"-19.8\">(None, 1)</text>\n",
       "</g>\n",
       "<!-- 140615351881488&#45;&gt;140615351961552 -->\n",
       "<g class=\"edge\" id=\"edge13\">\n",
       "<title>140615351881488-&gt;140615351961552</title>\n",
       "<path d=\"M516.5,-83.3799C516.5,-75.1745 516.5,-65.7679 516.5,-56.8786\" fill=\"none\" stroke=\"#000000\"/>\n",
       "<polygon fill=\"#000000\" points=\"520.0001,-56.784 516.5,-46.784 513.0001,-56.784 520.0001,-56.784\" stroke=\"#000000\"/>\n",
       "</g>\n",
       "</g>\n",
       "</svg>"
      ],
      "text/plain": [
       "<IPython.core.display.SVG object>"
      ]
     },
     "execution_count": 36,
     "metadata": {},
     "output_type": "execute_result"
    }
   ],
   "source": [
    "SVG(model_to_dot(model,  show_shapes=True, show_layer_names=True, dpi=72, rankdir='TB').create_svg())"
   ]
  },
  {
   "cell_type": "markdown",
   "metadata": {
    "id": "AX_kbVszTuLL"
   },
   "source": [
    "###Training the Model"
   ]
  },
  {
   "cell_type": "code",
   "execution_count": null,
   "metadata": {
    "colab": {
     "base_uri": "https://localhost:8080/"
    },
    "id": "HMIUiTAmIUbc",
    "outputId": "f1ad52ef-2f57-4fce-b3b2-bfcab3e3b811"
   },
   "outputs": [
    {
     "name": "stdout",
     "output_type": "stream",
     "text": [
      "Epoch 1/2\n",
      "3881/3881 [==============================] - 156s 39ms/step - loss: 3.2834 - val_loss: 2.9045\n",
      "Epoch 2/2\n",
      "3881/3881 [==============================] - 154s 40ms/step - loss: 2.6865 - val_loss: 2.9861\n"
     ]
    }
   ],
   "source": [
    "model.optimizer.learning_rate = 5e-2\n",
    "history = model.fit([trdf.user_id, trdf.business_id], trdf.stars, epochs=2, \n",
    "          validation_data=([valdf.user_id, valdf.business_id], valdf.stars), batch_size=1024, verbose=1)"
   ]
  },
  {
   "cell_type": "code",
   "execution_count": null,
   "metadata": {
    "id": "ofayjmggIoSM"
   },
   "outputs": [],
   "source": [
    "model.save_weights(\"/content/drive/MyDrive/cf.h5\")"
   ]
  },
  {
   "cell_type": "code",
   "execution_count": null,
   "metadata": {
    "colab": {
     "base_uri": "https://localhost:8080/",
     "height": 298
    },
    "id": "QHkIdH9ZKTqK",
    "outputId": "bc742f3e-992f-4346-ae1b-d19150e82878"
   },
   "outputs": [
    {
     "data": {
      "text/plain": [
       "Text(0.5, 1.0, 'Training vs Validation Loss')"
      ]
     },
     "execution_count": 44,
     "metadata": {},
     "output_type": "execute_result"
    },
    {
     "data": {
      "image/png": "[encoded data removed]",
      "text/plain": [
       "<Figure size 432x288 with 1 Axes>"
      ]
     },
     "metadata": {
      "needs_background": "light"
     },
     "output_type": "display_data"
    }
   ],
   "source": [
    "plt.plot(history.history['loss'], label='loss')\n",
    "plt.plot(history.history['val_loss'], label='val_loss')\n",
    "plt.title('Training vs Validation Loss')"
   ]
  },
  {
   "cell_type": "code",
   "execution_count": null,
   "metadata": {
    "colab": {
     "base_uri": "https://localhost:8080/"
    },
    "id": "gHk9PnMeKnMz",
    "outputId": "799c091d-18dc-4990-eeae-e3944d80a102"
   },
   "outputs": [
    {
     "data": {
      "text/plain": [
       "array([[5.0736294]], dtype=float32)"
      ]
     },
     "execution_count": 45,
     "metadata": {},
     "output_type": "execute_result"
    }
   ],
   "source": [
    "model.predict([np.array([3]), np.array([458])])"
   ]
  },
  {
   "cell_type": "code",
   "execution_count": null,
   "metadata": {
    "id": "UyY0lL6-K8O4"
   },
   "outputs": [],
   "source": [
    "preds_df = df[['business_id', 'stars', 'user_id']].copy()\n",
    "preds_df['predictions'] = model.predict([preds_df.user_id, preds_df.business_id]).ravel()"
   ]
  },
  {
   "cell_type": "code",
   "execution_count": null,
   "metadata": {
    "id": "_c4EClcFLNrq"
   },
   "outputs": [],
   "source": [
    "preds_df.to_csv(\"/content/drive/MyDrive/preds.csv\")"
   ]
  },
  {
   "cell_type": "markdown",
   "metadata": {
    "id": "2o4XpSPbT0a7"
   },
   "source": [
    "###Comparing Predicted ratings to Actual ratings"
   ]
  },
  {
   "cell_type": "code",
   "execution_count": null,
   "metadata": {
    "colab": {
     "base_uri": "https://localhost:8080/",
     "height": 206
    },
    "id": "ho0Y03h_Mn_s",
    "outputId": "89db6d68-2365-49c0-b9ca-55c3c23a783a"
   },
   "outputs": [
    {
     "data": {
      "text/html": [
       "\n",
       "  <div id=\"df-284e9eec-c844-42cb-a3f0-102d30882934\">\n",
       "    <div class=\"colab-df-container\">\n",
       "      <div>\n",
       "<style scoped>\n",
       "    .dataframe tbody tr th:only-of-type {\n",
       "        vertical-align: middle;\n",
       "    }\n",
       "\n",
       "    .dataframe tbody tr th {\n",
       "        vertical-align: top;\n",
       "    }\n",
       "\n",
       "    .dataframe thead th {\n",
       "        text-align: right;\n",
       "    }\n",
       "</style>\n",
       "<table border=\"1\" class=\"dataframe\">\n",
       "  <thead>\n",
       "    <tr style=\"text-align: right;\">\n",
       "      <th></th>\n",
       "      <th>stars</th>\n",
       "      <th>count</th>\n",
       "      <th>mean</th>\n",
       "      <th>std</th>\n",
       "      <th>min</th>\n",
       "      <th>25%</th>\n",
       "      <th>50%</th>\n",
       "      <th>75%</th>\n",
       "      <th>max</th>\n",
       "    </tr>\n",
       "  </thead>\n",
       "  <tbody>\n",
       "    <tr>\n",
       "      <th>0</th>\n",
       "      <td>1.0</td>\n",
       "      <td>480980.0</td>\n",
       "      <td>2.591992</td>\n",
       "      <td>1.487977</td>\n",
       "      <td>0.002329</td>\n",
       "      <td>1.243266</td>\n",
       "      <td>2.573628</td>\n",
       "      <td>3.885845</td>\n",
       "      <td>5.494643</td>\n",
       "    </tr>\n",
       "    <tr>\n",
       "      <th>1</th>\n",
       "      <td>2.0</td>\n",
       "      <td>456524.0</td>\n",
       "      <td>3.220758</td>\n",
       "      <td>1.279656</td>\n",
       "      <td>0.014621</td>\n",
       "      <td>2.268134</td>\n",
       "      <td>3.393028</td>\n",
       "      <td>4.271964</td>\n",
       "      <td>5.492524</td>\n",
       "    </tr>\n",
       "    <tr>\n",
       "      <th>2</th>\n",
       "      <td>3.0</td>\n",
       "      <td>695309.0</td>\n",
       "      <td>3.650443</td>\n",
       "      <td>1.101361</td>\n",
       "      <td>0.006816</td>\n",
       "      <td>2.951496</td>\n",
       "      <td>3.845617</td>\n",
       "      <td>4.518595</td>\n",
       "      <td>5.493388</td>\n",
       "    </tr>\n",
       "    <tr>\n",
       "      <th>3</th>\n",
       "      <td>4.0</td>\n",
       "      <td>1408153.0</td>\n",
       "      <td>4.035759</td>\n",
       "      <td>0.978840</td>\n",
       "      <td>0.010890</td>\n",
       "      <td>3.508380</td>\n",
       "      <td>4.255637</td>\n",
       "      <td>4.780721</td>\n",
       "      <td>5.496568</td>\n",
       "    </tr>\n",
       "    <tr>\n",
       "      <th>4</th>\n",
       "      <td>5.0</td>\n",
       "      <td>1926441.0</td>\n",
       "      <td>4.503384</td>\n",
       "      <td>0.881844</td>\n",
       "      <td>0.016825</td>\n",
       "      <td>4.151856</td>\n",
       "      <td>4.771025</td>\n",
       "      <td>5.135151</td>\n",
       "      <td>5.499292</td>\n",
       "    </tr>\n",
       "  </tbody>\n",
       "</table>\n",
       "</div>\n",
       "      <button class=\"colab-df-convert\" onclick=\"convertToInteractive('df-284e9eec-c844-42cb-a3f0-102d30882934')\"\n",
       "              title=\"Convert this dataframe to an interactive table.\"\n",
       "              style=\"display:none;\">\n",
       "        \n",
       "  <svg xmlns=\"http://www.w3.org/2000/svg\" height=\"24px\"viewBox=\"0 0 24 24\"\n",
       "       width=\"24px\">\n",
       "    <path d=\"M0 0h24v24H0V0z\" fill=\"none\"/>\n",
       "    <path d=\"M18.56 5.44l.94 2.06.94-2.06 2.06-.94-2.06-.94-.94-2.06-.94 2.06-2.06.94zm-11 1L8.5 8.5l.94-2.06 2.06-.94-2.06-.94L8.5 2.5l-.94 2.06-2.06.94zm10 10l.94 2.06.94-2.06 2.06-.94-2.06-.94-.94-2.06-.94 2.06-2.06.94z\"/><path d=\"M17.41 7.96l-1.37-1.37c-.4-.4-.92-.59-1.43-.59-.52 0-1.04.2-1.43.59L10.3 9.45l-7.72 7.72c-.78.78-.78 2.05 0 2.83L4 21.41c.39.39.9.59 1.41.59.51 0 1.02-.2 1.41-.59l7.78-7.78 2.81-2.81c.8-.78.8-2.07 0-2.86zM5.41 20L4 18.59l7.72-7.72 1.47 1.35L5.41 20z\"/>\n",
       "  </svg>\n",
       "      </button>\n",
       "      \n",
       "  <style>\n",
       "    .colab-df-container {\n",
       "      display:flex;\n",
       "      flex-wrap:wrap;\n",
       "      gap: 12px;\n",
       "    }\n",
       "\n",
       "    .colab-df-convert {\n",
       "      background-color: #E8F0FE;\n",
       "      border: none;\n",
       "      border-radius: 50%;\n",
       "      cursor: pointer;\n",
       "      display: none;\n",
       "      fill: #1967D2;\n",
       "      height: 32px;\n",
       "      padding: 0 0 0 0;\n",
       "      width: 32px;\n",
       "    }\n",
       "\n",
       "    .colab-df-convert:hover {\n",
       "      background-color: #E2EBFA;\n",
       "      box-shadow: 0px 1px 2px rgba(60, 64, 67, 0.3), 0px 1px 3px 1px rgba(60, 64, 67, 0.15);\n",
       "      fill: #174EA6;\n",
       "    }\n",
       "\n",
       "    [theme=dark] .colab-df-convert {\n",
       "      background-color: #3B4455;\n",
       "      fill: #D2E3FC;\n",
       "    }\n",
       "\n",
       "    [theme=dark] .colab-df-convert:hover {\n",
       "      background-color: #434B5C;\n",
       "      box-shadow: 0px 1px 3px 1px rgba(0, 0, 0, 0.15);\n",
       "      filter: drop-shadow(0px 1px 2px rgba(0, 0, 0, 0.3));\n",
       "      fill: #FFFFFF;\n",
       "    }\n",
       "  </style>\n",
       "\n",
       "      <script>\n",
       "        const buttonEl =\n",
       "          document.querySelector('#df-284e9eec-c844-42cb-a3f0-102d30882934 button.colab-df-convert');\n",
       "        buttonEl.style.display =\n",
       "          google.colab.kernel.accessAllowed ? 'block' : 'none';\n",
       "\n",
       "        async function convertToInteractive(key) {\n",
       "          const element = document.querySelector('#df-284e9eec-c844-42cb-a3f0-102d30882934');\n",
       "          const dataTable =\n",
       "            await google.colab.kernel.invokeFunction('convertToInteractive',\n",
       "                                                     [key], {});\n",
       "          if (!dataTable) return;\n",
       "\n",
       "          const docLinkHtml = 'Like what you see? Visit the ' +\n",
       "            '<a target=\"_blank\" href=https://colab.research.google.com/notebooks/data_table.ipynb>data table notebook</a>'\n",
       "            + ' to learn more about interactive tables.';\n",
       "          element.innerHTML = '';\n",
       "          dataTable['output_type'] = 'display_data';\n",
       "          await google.colab.output.renderOutput(dataTable, element);\n",
       "          const docLink = document.createElement('div');\n",
       "          docLink.innerHTML = docLinkHtml;\n",
       "          element.appendChild(docLink);\n",
       "        }\n",
       "      </script>\n",
       "    </div>\n",
       "  </div>\n",
       "  "
      ],
      "text/plain": [
       "   stars      count      mean       std  ...       25%       50%       75%       max\n",
       "0    1.0   480980.0  2.591992  1.487977  ...  1.243266  2.573628  3.885845  5.494643\n",
       "1    2.0   456524.0  3.220758  1.279656  ...  2.268134  3.393028  4.271964  5.492524\n",
       "2    3.0   695309.0  3.650443  1.101361  ...  2.951496  3.845617  4.518595  5.493388\n",
       "3    4.0  1408153.0  4.035759  0.978840  ...  3.508380  4.255637  4.780721  5.496568\n",
       "4    5.0  1926441.0  4.503384  0.881844  ...  4.151856  4.771025  5.135151  5.499292\n",
       "\n",
       "[5 rows x 9 columns]"
      ]
     },
     "execution_count": 52,
     "metadata": {},
     "output_type": "execute_result"
    }
   ],
   "source": [
    "preds_stats=preds_df.groupby('stars')['predictions'].describe().reset_index()\n",
    "preds_stats"
   ]
  },
  {
   "cell_type": "code",
   "execution_count": null,
   "metadata": {
    "colab": {
     "base_uri": "https://localhost:8080/",
     "height": 295
    },
    "id": "4sUQRlyrNwlC",
    "outputId": "35c5a896-d3f3-4ef3-9052-bf8359d52107"
   },
   "outputs": [
    {
     "data": {
      "image/png": "[encoded data removed]",
      "text/plain": [
       "<Figure size 432x288 with 1 Axes>"
      ]
     },
     "metadata": {
      "needs_background": "light"
     },
     "output_type": "display_data"
    }
   ],
   "source": [
    "plt.plot([0.5,5],[0.5,5])\n",
    "plt.plot(preds_stats[\"stars\"], preds_stats['mean'], color=\"red\")\n",
    "plt.fill_between(preds_stats[\"stars\"], preds_stats['mean']-preds_stats['std'], preds_stats['mean']+preds_stats['std'], color=\"red\", alpha=0.5)\n",
    "plt.xlabel(\"rating\")\n",
    "plt.ylabel(\"prediction\")\n",
    "plt.title(\"Predicted rating vs Actual rating\")\n",
    "plt.show()"
   ]
  },
  {
   "cell_type": "code",
   "execution_count": null,
   "metadata": {
    "colab": {
     "base_uri": "https://localhost:8080/",
     "height": 238
    },
    "id": "eelgzDyyN1uf",
    "outputId": "7b68817c-74a0-43c8-a2a2-eac15d3cb6e9"
   },
   "outputs": [
    {
     "data": {
      "text/html": [
       "\n",
       "  <div id=\"df-1d5195c3-9a7c-4b48-aa5b-23914a03d828\">\n",
       "    <div class=\"colab-df-container\">\n",
       "      <div>\n",
       "<style scoped>\n",
       "    .dataframe tbody tr th:only-of-type {\n",
       "        vertical-align: middle;\n",
       "    }\n",
       "\n",
       "    .dataframe tbody tr th {\n",
       "        vertical-align: top;\n",
       "    }\n",
       "\n",
       "    .dataframe thead th {\n",
       "        text-align: right;\n",
       "    }\n",
       "</style>\n",
       "<table border=\"1\" class=\"dataframe\">\n",
       "  <thead>\n",
       "    <tr style=\"text-align: right;\">\n",
       "      <th>predictions</th>\n",
       "      <th>0.0</th>\n",
       "      <th>0.5</th>\n",
       "      <th>1.0</th>\n",
       "      <th>1.5</th>\n",
       "      <th>2.0</th>\n",
       "      <th>2.5</th>\n",
       "      <th>3.0</th>\n",
       "      <th>3.5</th>\n",
       "      <th>4.0</th>\n",
       "      <th>4.5</th>\n",
       "      <th>5.0</th>\n",
       "      <th>5.5</th>\n",
       "    </tr>\n",
       "    <tr>\n",
       "      <th>stars</th>\n",
       "      <th></th>\n",
       "      <th></th>\n",
       "      <th></th>\n",
       "      <th></th>\n",
       "      <th></th>\n",
       "      <th></th>\n",
       "      <th></th>\n",
       "      <th></th>\n",
       "      <th></th>\n",
       "      <th></th>\n",
       "      <th></th>\n",
       "      <th></th>\n",
       "    </tr>\n",
       "  </thead>\n",
       "  <tbody>\n",
       "    <tr>\n",
       "      <th>1.0</th>\n",
       "      <td>12278</td>\n",
       "      <td>52881</td>\n",
       "      <td>55830</td>\n",
       "      <td>47602</td>\n",
       "      <td>43865</td>\n",
       "      <td>43154</td>\n",
       "      <td>44573</td>\n",
       "      <td>47320</td>\n",
       "      <td>48901</td>\n",
       "      <td>46533</td>\n",
       "      <td>32236</td>\n",
       "      <td>5807</td>\n",
       "    </tr>\n",
       "    <tr>\n",
       "      <th>2.0</th>\n",
       "      <td>1637</td>\n",
       "      <td>14189</td>\n",
       "      <td>25269</td>\n",
       "      <td>32266</td>\n",
       "      <td>39249</td>\n",
       "      <td>45740</td>\n",
       "      <td>53046</td>\n",
       "      <td>61173</td>\n",
       "      <td>66815</td>\n",
       "      <td>65128</td>\n",
       "      <td>45261</td>\n",
       "      <td>6751</td>\n",
       "    </tr>\n",
       "    <tr>\n",
       "      <th>3.0</th>\n",
       "      <td>535</td>\n",
       "      <td>6531</td>\n",
       "      <td>15235</td>\n",
       "      <td>25964</td>\n",
       "      <td>39413</td>\n",
       "      <td>57161</td>\n",
       "      <td>79014</td>\n",
       "      <td>101692</td>\n",
       "      <td>123625</td>\n",
       "      <td>133004</td>\n",
       "      <td>98759</td>\n",
       "      <td>14376</td>\n",
       "    </tr>\n",
       "    <tr>\n",
       "      <th>4.0</th>\n",
       "      <td>403</td>\n",
       "      <td>5451</td>\n",
       "      <td>13795</td>\n",
       "      <td>26162</td>\n",
       "      <td>44265</td>\n",
       "      <td>70644</td>\n",
       "      <td>111614</td>\n",
       "      <td>172323</td>\n",
       "      <td>256053</td>\n",
       "      <td>333257</td>\n",
       "      <td>315023</td>\n",
       "      <td>59163</td>\n",
       "    </tr>\n",
       "    <tr>\n",
       "      <th>5.0</th>\n",
       "      <td>526</td>\n",
       "      <td>4717</td>\n",
       "      <td>10524</td>\n",
       "      <td>17701</td>\n",
       "      <td>28867</td>\n",
       "      <td>45961</td>\n",
       "      <td>75256</td>\n",
       "      <td>127735</td>\n",
       "      <td>224963</td>\n",
       "      <td>403786</td>\n",
       "      <td>683542</td>\n",
       "      <td>302863</td>\n",
       "    </tr>\n",
       "  </tbody>\n",
       "</table>\n",
       "</div>\n",
       "      <button class=\"colab-df-convert\" onclick=\"convertToInteractive('df-1d5195c3-9a7c-4b48-aa5b-23914a03d828')\"\n",
       "              title=\"Convert this dataframe to an interactive table.\"\n",
       "              style=\"display:none;\">\n",
       "        \n",
       "  <svg xmlns=\"http://www.w3.org/2000/svg\" height=\"24px\"viewBox=\"0 0 24 24\"\n",
       "       width=\"24px\">\n",
       "    <path d=\"M0 0h24v24H0V0z\" fill=\"none\"/>\n",
       "    <path d=\"M18.56 5.44l.94 2.06.94-2.06 2.06-.94-2.06-.94-.94-2.06-.94 2.06-2.06.94zm-11 1L8.5 8.5l.94-2.06 2.06-.94-2.06-.94L8.5 2.5l-.94 2.06-2.06.94zm10 10l.94 2.06.94-2.06 2.06-.94-2.06-.94-.94-2.06-.94 2.06-2.06.94z\"/><path d=\"M17.41 7.96l-1.37-1.37c-.4-.4-.92-.59-1.43-.59-.52 0-1.04.2-1.43.59L10.3 9.45l-7.72 7.72c-.78.78-.78 2.05 0 2.83L4 21.41c.39.39.9.59 1.41.59.51 0 1.02-.2 1.41-.59l7.78-7.78 2.81-2.81c.8-.78.8-2.07 0-2.86zM5.41 20L4 18.59l7.72-7.72 1.47 1.35L5.41 20z\"/>\n",
       "  </svg>\n",
       "      </button>\n",
       "      \n",
       "  <style>\n",
       "    .colab-df-container {\n",
       "      display:flex;\n",
       "      flex-wrap:wrap;\n",
       "      gap: 12px;\n",
       "    }\n",
       "\n",
       "    .colab-df-convert {\n",
       "      background-color: #E8F0FE;\n",
       "      border: none;\n",
       "      border-radius: 50%;\n",
       "      cursor: pointer;\n",
       "      display: none;\n",
       "      fill: #1967D2;\n",
       "      height: 32px;\n",
       "      padding: 0 0 0 0;\n",
       "      width: 32px;\n",
       "    }\n",
       "\n",
       "    .colab-df-convert:hover {\n",
       "      background-color: #E2EBFA;\n",
       "      box-shadow: 0px 1px 2px rgba(60, 64, 67, 0.3), 0px 1px 3px 1px rgba(60, 64, 67, 0.15);\n",
       "      fill: #174EA6;\n",
       "    }\n",
       "\n",
       "    [theme=dark] .colab-df-convert {\n",
       "      background-color: #3B4455;\n",
       "      fill: #D2E3FC;\n",
       "    }\n",
       "\n",
       "    [theme=dark] .colab-df-convert:hover {\n",
       "      background-color: #434B5C;\n",
       "      box-shadow: 0px 1px 3px 1px rgba(0, 0, 0, 0.15);\n",
       "      filter: drop-shadow(0px 1px 2px rgba(0, 0, 0, 0.3));\n",
       "      fill: #FFFFFF;\n",
       "    }\n",
       "  </style>\n",
       "\n",
       "      <script>\n",
       "        const buttonEl =\n",
       "          document.querySelector('#df-1d5195c3-9a7c-4b48-aa5b-23914a03d828 button.colab-df-convert');\n",
       "        buttonEl.style.display =\n",
       "          google.colab.kernel.accessAllowed ? 'block' : 'none';\n",
       "\n",
       "        async function convertToInteractive(key) {\n",
       "          const element = document.querySelector('#df-1d5195c3-9a7c-4b48-aa5b-23914a03d828');\n",
       "          const dataTable =\n",
       "            await google.colab.kernel.invokeFunction('convertToInteractive',\n",
       "                                                     [key], {});\n",
       "          if (!dataTable) return;\n",
       "\n",
       "          const docLinkHtml = 'Like what you see? Visit the ' +\n",
       "            '<a target=\"_blank\" href=https://colab.research.google.com/notebooks/data_table.ipynb>data table notebook</a>'\n",
       "            + ' to learn more about interactive tables.';\n",
       "          element.innerHTML = '';\n",
       "          dataTable['output_type'] = 'display_data';\n",
       "          await google.colab.output.renderOutput(dataTable, element);\n",
       "          const docLink = document.createElement('div');\n",
       "          docLink.innerHTML = docLinkHtml;\n",
       "          element.appendChild(docLink);\n",
       "        }\n",
       "      </script>\n",
       "    </div>\n",
       "  </div>\n",
       "  "
      ],
      "text/plain": [
       "predictions    0.0    0.5    1.0    1.5  ...     4.0     4.5     5.0     5.5\n",
       "stars                                    ...                                \n",
       "1.0          12278  52881  55830  47602  ...   48901   46533   32236    5807\n",
       "2.0           1637  14189  25269  32266  ...   66815   65128   45261    6751\n",
       "3.0            535   6531  15235  25964  ...  123625  133004   98759   14376\n",
       "4.0            403   5451  13795  26162  ...  256053  333257  315023   59163\n",
       "5.0            526   4717  10524  17701  ...  224963  403786  683542  302863\n",
       "\n",
       "[5 rows x 12 columns]"
      ]
     },
     "execution_count": 60,
     "metadata": {},
     "output_type": "execute_result"
    }
   ],
   "source": [
    "ct = pd.crosstab(preds_df.stars.astype('category'), \n",
    "                 preds_df.predictions.apply(lambda x: round(x*2)/2).astype('category'))\n",
    "ct"
   ]
  },
  {
   "cell_type": "code",
   "execution_count": null,
   "metadata": {
    "colab": {
     "base_uri": "https://localhost:8080/",
     "height": 623
    },
    "id": "fNpx0RgrOVnG",
    "outputId": "6abd0b2b-cbe5-424e-c561-5bc44b412f00"
   },
   "outputs": [
    {
     "data": {
      "text/plain": [
       "<matplotlib.axes._subplots.AxesSubplot at 0x7fe317b62cd0>"
      ]
     },
     "execution_count": 61,
     "metadata": {},
     "output_type": "execute_result"
    },
    {
     "data": {
      "image/png": "[encoded data removed]",
      "text/plain": [
       "<Figure size 1080x720 with 2 Axes>"
      ]
     },
     "metadata": {
      "needs_background": "light"
     },
     "output_type": "display_data"
    }
   ],
   "source": [
    "plt.figure(figsize = (15,10))\n",
    "sns.heatmap(ct, linewidths=0.1)"
   ]
  },
  {
   "cell_type": "markdown",
   "metadata": {
    "id": "BahmDFTVOz-S"
   },
   "source": [
    "The model does well in the 4-5 region"
   ]
  },
  {
   "cell_type": "markdown",
   "metadata": {
    "id": "c3CwVJ7JPKKX"
   },
   "source": [
    "###Recommending restaurants"
   ]
  },
  {
   "cell_type": "code",
   "execution_count": null,
   "metadata": {
    "id": "PADDc28uQnQv"
   },
   "outputs": [],
   "source": [
    "table = make_query(\"SELECT business_id, name, address, city, state, postal_code, latitude, longitude, stars\\\n",
    "                   FROM businesses\")\n",
    "business_df = make_frame(table, \"business_id, name, address, city, state, postal_code, latitude, longitude, stars\".split(', '))\n",
    "\n",
    "del table"
   ]
  },
  {
   "cell_type": "code",
   "execution_count": null,
   "metadata": {
    "id": "MUBgKs8BP9Y7"
   },
   "outputs": [],
   "source": [
    "def generate_candidates(user_id, friend=False):\n",
    "    \"\"\"\n",
    "    Returns list of business id's which could be good prospects for a particular user.\n",
    "    Factors in location.\n",
    "    \n",
    "    Parameters:\n",
    "    user_id : id of user\n",
    "    \n",
    "    Return:\n",
    "    lst : list of restaurant ids. Is not empty\n",
    "    \"\"\"\n",
    "    lst = []\n",
    "    top_candidates_by_city = 20\n",
    "    # By Location\n",
    "    #all the restaurants user has been to previously\n",
    "    user_history = df.query(f'user_id=={user_id}')\n",
    "    if user_history.shape[0]!=0:\n",
    "        # Details about those restaurants\n",
    "        visit_history = business_df.query(f'business_id in {list(user_history.business_id)}')\n",
    "        # Implying city user lives in by looking at most frequent city in history\n",
    "        # This will allow our recommendation to personalize recommendations for user\n",
    "        city_mode = visit_history.city.mode()\n",
    "        for city in city_mode:\n",
    "          city_df = business_df.query(f'city == \"{city}\"').sort_values(by='stars')[:400]\n",
    "          lst.extend(city_df.business_id[:top_candidates_by_city].values)        \n",
    "    if lst:\n",
    "        return list(set(lst))\n",
    "\n",
    "    return boring_user()\n",
    "\n",
    "def boring_user():\n",
    "    \"\"\"\n",
    "    A user is boring if he has not rated any restaurants. For such users \n",
    "    candidates are generated based on restaurant restaurant biases. \n",
    "    This could be a new user on site who hasn't interacted much. \n",
    "    \n",
    "    Return:\n",
    "    lst : list of restaurant ids. Is not empty\n",
    "    \"\"\"\n",
    "    return_top = 20\n",
    "    restaurant_bias = model.get_layer('restaurant_bias').weights[0].numpy()\n",
    "    bias_df = pd.DataFrame(restaurant_bias, columns=['restaurant_bias'])\n",
    "    bias_df.index.name='business_id'\n",
    "    bias_df = bias_df.sort_values(by='restaurant_bias', ascending=False)\n",
    "\n",
    "    return bias_df.index[:return_top].tolist()\n"
   ]
  },
  {
   "cell_type": "code",
   "execution_count": null,
   "metadata": {
    "id": "H69SgnhcOjk1"
   },
   "outputs": [],
   "source": [
    "def recommend(user_id, top=10):\n",
    "    \"\"\"\n",
    "    Uses Recommendation system to recommend restaurant to user.\n",
    "    \n",
    "    Parameters:\n",
    "    user_id : id of user\n",
    "    top : Number of recommendations [10 by default]\n",
    "    \n",
    "    Returns:\n",
    "    id_lst : List of business ids. List size = top \n",
    "    pred_ratings : List of ratings for corresponding business id. List size = top\n",
    "    \"\"\"\n",
    "    \n",
    "    label = f\"predicted_rating_user_id_{user_id}\"\n",
    "    candidates = generate_candidates(user_id=user_id)\n",
    "    pred_ratings = model.predict([np.array([user_id]*len(candidates)), np.array(candidates)])\n",
    "    pred_df = pd.DataFrame({'business_id':candidates, label:pred_ratings.ravel()})\n",
    "    df = business_df.query(f'business_id in {candidates}')\n",
    "    return df.merge(pred_df, on='business_id').sort_values(by=label, ascending=False).head(top)"
   ]
  },
  {
   "cell_type": "code",
   "execution_count": null,
   "metadata": {
    "colab": {
     "base_uri": "https://localhost:8080/",
     "height": 206
    },
    "id": "Y_1m1ndjPry0",
    "outputId": "1023a5c8-64f2-4269-f4d4-3918d0d5e95d"
   },
   "outputs": [
    {
     "data": {
      "text/html": [
       "\n",
       "  <div id=\"df-ebcd4f9d-4c23-4747-b527-df368134a89f\">\n",
       "    <div class=\"colab-df-container\">\n",
       "      <div>\n",
       "<style scoped>\n",
       "    .dataframe tbody tr th:only-of-type {\n",
       "        vertical-align: middle;\n",
       "    }\n",
       "\n",
       "    .dataframe tbody tr th {\n",
       "        vertical-align: top;\n",
       "    }\n",
       "\n",
       "    .dataframe thead th {\n",
       "        text-align: right;\n",
       "    }\n",
       "</style>\n",
       "<table border=\"1\" class=\"dataframe\">\n",
       "  <thead>\n",
       "    <tr style=\"text-align: right;\">\n",
       "      <th></th>\n",
       "      <th>business_id</th>\n",
       "      <th>name</th>\n",
       "      <th>address</th>\n",
       "      <th>city</th>\n",
       "      <th>state</th>\n",
       "      <th>postal_code</th>\n",
       "      <th>latitude</th>\n",
       "      <th>longitude</th>\n",
       "      <th>stars</th>\n",
       "      <th>predicted_rating_user_id_999</th>\n",
       "    </tr>\n",
       "  </thead>\n",
       "  <tbody>\n",
       "    <tr>\n",
       "      <th>27</th>\n",
       "      <td>35885</td>\n",
       "      <td>O'Brian's Liquors</td>\n",
       "      <td>158 Highland Ave</td>\n",
       "      <td>Somerville</td>\n",
       "      <td>MA</td>\n",
       "      <td>02143</td>\n",
       "      <td>42.388432</td>\n",
       "      <td>-71.103793</td>\n",
       "      <td>2.5</td>\n",
       "      <td>3.809033</td>\n",
       "    </tr>\n",
       "    <tr>\n",
       "      <th>18</th>\n",
       "      <td>23010</td>\n",
       "      <td>McDonald's</td>\n",
       "      <td>702 Washington St</td>\n",
       "      <td>Boston</td>\n",
       "      <td>MA</td>\n",
       "      <td>02111</td>\n",
       "      <td>42.351145</td>\n",
       "      <td>-71.062697</td>\n",
       "      <td>1.5</td>\n",
       "      <td>3.668192</td>\n",
       "    </tr>\n",
       "    <tr>\n",
       "      <th>17</th>\n",
       "      <td>22856</td>\n",
       "      <td>7-Eleven</td>\n",
       "      <td>532 Commonwealth</td>\n",
       "      <td>Boston</td>\n",
       "      <td>MA</td>\n",
       "      <td>02215</td>\n",
       "      <td>42.348476</td>\n",
       "      <td>-71.096326</td>\n",
       "      <td>1.5</td>\n",
       "      <td>3.538559</td>\n",
       "    </tr>\n",
       "    <tr>\n",
       "      <th>10</th>\n",
       "      <td>15430</td>\n",
       "      <td>Rite Aid</td>\n",
       "      <td>299 Broadway</td>\n",
       "      <td>Somerville</td>\n",
       "      <td>MA</td>\n",
       "      <td>02145</td>\n",
       "      <td>42.393026</td>\n",
       "      <td>-71.092546</td>\n",
       "      <td>2.5</td>\n",
       "      <td>3.233043</td>\n",
       "    </tr>\n",
       "    <tr>\n",
       "      <th>33</th>\n",
       "      <td>46167</td>\n",
       "      <td>McDonald's</td>\n",
       "      <td>14 Mcgrath Hwy</td>\n",
       "      <td>Somerville</td>\n",
       "      <td>MA</td>\n",
       "      <td>02143</td>\n",
       "      <td>42.373708</td>\n",
       "      <td>-71.082889</td>\n",
       "      <td>2.0</td>\n",
       "      <td>3.230029</td>\n",
       "    </tr>\n",
       "  </tbody>\n",
       "</table>\n",
       "</div>\n",
       "      <button class=\"colab-df-convert\" onclick=\"convertToInteractive('df-ebcd4f9d-4c23-4747-b527-df368134a89f')\"\n",
       "              title=\"Convert this dataframe to an interactive table.\"\n",
       "              style=\"display:none;\">\n",
       "        \n",
       "  <svg xmlns=\"http://www.w3.org/2000/svg\" height=\"24px\"viewBox=\"0 0 24 24\"\n",
       "       width=\"24px\">\n",
       "    <path d=\"M0 0h24v24H0V0z\" fill=\"none\"/>\n",
       "    <path d=\"M18.56 5.44l.94 2.06.94-2.06 2.06-.94-2.06-.94-.94-2.06-.94 2.06-2.06.94zm-11 1L8.5 8.5l.94-2.06 2.06-.94-2.06-.94L8.5 2.5l-.94 2.06-2.06.94zm10 10l.94 2.06.94-2.06 2.06-.94-2.06-.94-.94-2.06-.94 2.06-2.06.94z\"/><path d=\"M17.41 7.96l-1.37-1.37c-.4-.4-.92-.59-1.43-.59-.52 0-1.04.2-1.43.59L10.3 9.45l-7.72 7.72c-.78.78-.78 2.05 0 2.83L4 21.41c.39.39.9.59 1.41.59.51 0 1.02-.2 1.41-.59l7.78-7.78 2.81-2.81c.8-.78.8-2.07 0-2.86zM5.41 20L4 18.59l7.72-7.72 1.47 1.35L5.41 20z\"/>\n",
       "  </svg>\n",
       "      </button>\n",
       "      \n",
       "  <style>\n",
       "    .colab-df-container {\n",
       "      display:flex;\n",
       "      flex-wrap:wrap;\n",
       "      gap: 12px;\n",
       "    }\n",
       "\n",
       "    .colab-df-convert {\n",
       "      background-color: #E8F0FE;\n",
       "      border: none;\n",
       "      border-radius: 50%;\n",
       "      cursor: pointer;\n",
       "      display: none;\n",
       "      fill: #1967D2;\n",
       "      height: 32px;\n",
       "      padding: 0 0 0 0;\n",
       "      width: 32px;\n",
       "    }\n",
       "\n",
       "    .colab-df-convert:hover {\n",
       "      background-color: #E2EBFA;\n",
       "      box-shadow: 0px 1px 2px rgba(60, 64, 67, 0.3), 0px 1px 3px 1px rgba(60, 64, 67, 0.15);\n",
       "      fill: #174EA6;\n",
       "    }\n",
       "\n",
       "    [theme=dark] .colab-df-convert {\n",
       "      background-color: #3B4455;\n",
       "      fill: #D2E3FC;\n",
       "    }\n",
       "\n",
       "    [theme=dark] .colab-df-convert:hover {\n",
       "      background-color: #434B5C;\n",
       "      box-shadow: 0px 1px 3px 1px rgba(0, 0, 0, 0.15);\n",
       "      filter: drop-shadow(0px 1px 2px rgba(0, 0, 0, 0.3));\n",
       "      fill: #FFFFFF;\n",
       "    }\n",
       "  </style>\n",
       "\n",
       "      <script>\n",
       "        const buttonEl =\n",
       "          document.querySelector('#df-ebcd4f9d-4c23-4747-b527-df368134a89f button.colab-df-convert');\n",
       "        buttonEl.style.display =\n",
       "          google.colab.kernel.accessAllowed ? 'block' : 'none';\n",
       "\n",
       "        async function convertToInteractive(key) {\n",
       "          const element = document.querySelector('#df-ebcd4f9d-4c23-4747-b527-df368134a89f');\n",
       "          const dataTable =\n",
       "            await google.colab.kernel.invokeFunction('convertToInteractive',\n",
       "                                                     [key], {});\n",
       "          if (!dataTable) return;\n",
       "\n",
       "          const docLinkHtml = 'Like what you see? Visit the ' +\n",
       "            '<a target=\"_blank\" href=https://colab.research.google.com/notebooks/data_table.ipynb>data table notebook</a>'\n",
       "            + ' to learn more about interactive tables.';\n",
       "          element.innerHTML = '';\n",
       "          dataTable['output_type'] = 'display_data';\n",
       "          await google.colab.output.renderOutput(dataTable, element);\n",
       "          const docLink = document.createElement('div');\n",
       "          docLink.innerHTML = docLinkHtml;\n",
       "          element.appendChild(docLink);\n",
       "        }\n",
       "      </script>\n",
       "    </div>\n",
       "  </div>\n",
       "  "
      ],
      "text/plain": [
       "    business_id               name  ... stars predicted_rating_user_id_999\n",
       "27        35885  O'Brian's Liquors  ...   2.5                     3.809033\n",
       "18        23010         McDonald's  ...   1.5                     3.668192\n",
       "17        22856           7-Eleven  ...   1.5                     3.538559\n",
       "10        15430           Rite Aid  ...   2.5                     3.233043\n",
       "33        46167         McDonald's  ...   2.0                     3.230029\n",
       "\n",
       "[5 rows x 10 columns]"
      ]
     },
     "execution_count": 92,
     "metadata": {},
     "output_type": "execute_result"
    }
   ],
   "source": [
    "recommend(user_id=999, top=5)"
   ]
  }
 ],
 "metadata": {
  "accelerator": "GPU",
  "colab": {
   "collapsed_sections": [],
   "name": "restaurant-recommender_final",
   "provenance": []
  },
  "kernelspec": {
   "display_name": "Python 3 (ipykernel)",
   "language": "python",
   "name": "python3"
  },
  "language_info": {
   "codemirror_mode": {
    "name": "ipython",
    "version": 3
   },
   "file_extension": ".py",
   "mimetype": "text/x-python",
   "name": "python",
   "nbconvert_exporter": "python",
   "pygments_lexer": "ipython3",
   "version": "3.9.1"
  }
 },
 "nbformat": 4,
 "nbformat_minor": 1
}
